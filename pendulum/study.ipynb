{
 "cells": [
  {
   "cell_type": "code",
   "execution_count": 1,
   "metadata": {
    "Collapsed": "false"
   },
   "outputs": [],
   "source": [
    "import gym\n",
    "import numpy as np\n",
    "\n",
    "from tqdm import trange\n",
    "\n",
    "env = gym.make('Pendulum-v0')"
   ]
  },
  {
   "cell_type": "markdown",
   "metadata": {
    "Collapsed": "false"
   },
   "source": [
    "The pendulum challenge is to keep a \n",
    "frictionless pendulum standing up"
   ]
  },
  {
   "cell_type": "markdown",
   "metadata": {
    "Collapsed": "false",
    "toc-hr-collapsed": true
   },
   "source": [
    "# The Pendulum"
   ]
  },
  {
   "cell_type": "markdown",
   "metadata": {
    "Collapsed": "false"
   },
   "source": [
    "## States"
   ]
  },
  {
   "cell_type": "markdown",
   "metadata": {
    "Collapsed": "false"
   },
   "source": [
    "| Num | Observation |\n",
    "|:-:|:-:|\n",
    "| 0 | cos(theta) |\n",
    "| 1 | sin(theta) |\n",
    "| 2 | theta dot |\n"
   ]
  },
  {
   "cell_type": "markdown",
   "metadata": {
    "Collapsed": "false"
   },
   "source": [
    "<style>\n",
    "td {\n",
    "  font-size: 100px\n",
    "}\n",
    "    \n",
    "    \n",
    "</style>\n"
   ]
  },
  {
   "cell_type": "code",
   "execution_count": 3,
   "metadata": {
    "Collapsed": "false"
   },
   "outputs": [
    {
     "name": "stdout",
     "output_type": "stream",
     "text": [
      "The shape of the state space: (3,)\n",
      "Highest value: [1. 1. 8.]\n",
      "Lowest value: [-1. -1. -8.]\n",
      "A sample state: [0.81256366 0.45644432 1.6889504 ]\n"
     ]
    }
   ],
   "source": [
    "print(f\"The shape of the state space: {env.observation_space.shape}\")\n",
    "print(f\"Highest value: {env.observation_space.high}\")\n",
    "print(f\"Lowest value: {env.observation_space.low}\")\n",
    "\n",
    "env.observation_space\n",
    "\n",
    "print(f\"A sample state: {env.observation_space.sample()}\")"
   ]
  },
  {
   "cell_type": "markdown",
   "metadata": {
    "Collapsed": "false"
   },
   "source": [
    "## Actions"
   ]
  },
  {
   "cell_type": "markdown",
   "metadata": {
    "Collapsed": "false"
   },
   "source": [
    "| Num | Action |\n",
    "|:-:|:-:|\n",
    "| 0 | Joint effort |"
   ]
  },
  {
   "cell_type": "code",
   "execution_count": 4,
   "metadata": {
    "Collapsed": "false"
   },
   "outputs": [
    {
     "name": "stdout",
     "output_type": "stream",
     "text": [
      "The shape of the action space: (1,)\n",
      "Highest value: [2.]\n",
      "Lowest value: [-2.]\n",
      "A sample action: [-0.8608973]\n"
     ]
    }
   ],
   "source": [
    "print(f\"The shape of the action space: {env.action_space.shape}\")\n",
    "print(f\"Highest value: {env.action_space.high}\")\n",
    "print(f\"Lowest value: {env.action_space.low}\")\n",
    "\n",
    "env.action_space.seed(473)\n",
    "\n",
    "print(f\"A sample action: {env.action_space.sample()}\")"
   ]
  },
  {
   "cell_type": "code",
   "execution_count": 5,
   "metadata": {
    "Collapsed": "false"
   },
   "outputs": [
    {
     "data": {
      "text/plain": [
       "array([1.8785995], dtype=float32)"
      ]
     },
     "execution_count": 5,
     "metadata": {},
     "output_type": "execute_result"
    }
   ],
   "source": [
    "env.action_space.sample()"
   ]
  },
  {
   "cell_type": "markdown",
   "metadata": {
    "Collapsed": "false"
   },
   "source": [
    "## Reward"
   ]
  },
  {
   "cell_type": "markdown",
   "metadata": {
    "Collapsed": "false"
   },
   "source": [
    "Function: $-(theta^2 + 0.1*thetaDot^2 + 0.001*action^2)$"
   ]
  },
  {
   "cell_type": "markdown",
   "metadata": {
    "Collapsed": "false"
   },
   "source": [
    "# The Agent"
   ]
  },
  {
   "cell_type": "code",
   "execution_count": 6,
   "metadata": {
    "Collapsed": "false"
   },
   "outputs": [],
   "source": [
    "import sys\n",
    "import numpy as np\n",
    "import pandas as pd\n",
    "from collections import deque\n",
    "\n",
    "import matplotlib.pyplot as plt\n",
    "%matplotlib inline"
   ]
  },
  {
   "cell_type": "markdown",
   "metadata": {
    "Collapsed": "false"
   },
   "source": [
    "### Utils"
   ]
  },
  {
   "cell_type": "code",
   "execution_count": 7,
   "metadata": {
    "Collapsed": "false"
   },
   "outputs": [],
   "source": [
    "# Utils\n",
    "class ScoreEvaluator:\n",
    "    def __init__(self, window: int):\n",
    "        self.window = window\n",
    "        self.best_score = -np.inf\n",
    "        self.avg_scores = []\n",
    "        self.tmp_scores = deque(maxlen=window)\n",
    "        self.last_score = None\n",
    "        \n",
    "    def add(self, score: float):\n",
    "        if not score:\n",
    "            raise ValueError(f'Score could not be {score}')\n",
    "         \n",
    "        self.tmp_scores.append(score)\n",
    "        \n",
    "        if score > self.best_score:\n",
    "            self.best_score = score\n",
    "        \n",
    "        self._update_avg()\n",
    "        self.last_score = score\n",
    "        \n",
    "    def plot_avg_scores(self):\n",
    "        plt.plot(np.linspace(0,\n",
    "                             len(self.avg_scores),\n",
    "                             len(self.avg_scores),\n",
    "                             endpoint=False),\n",
    "                 np.asarray(self.avg_scores))\n",
    "        plt.title(f'Best Reward: {self.best_score:10.5f}')\n",
    "        plt.xlabel('Episode Number')\n",
    "        plt.ylabel(f'Average Actions made (Over Next {self.window} Episodes)')\n",
    "        rolling_mean = (pd.Series(self.avg_scores)\n",
    "                          .rolling(199)\n",
    "                          .mean())\n",
    "        plt.plot(rolling_mean);\n",
    "        \n",
    "        plt.show()\n",
    "        \n",
    "    def _update_avg(self):\n",
    "        if len(self.tmp_scores) < self.tmp_scores.maxlen:\n",
    "            return\n",
    "        self.avg_scores.append(np.mean(self.tmp_scores))\n",
    "        \n",
    "def print_iteaction(iteraction: int, score_eval: ScoreEvaluator):\n",
    "    \"function responsible to print some infos each iteration\"\n",
    "    print(\"{:4d} - Best Score: {:5.2f} - {:5.2f}\".format(iteraction,\n",
    "                                                         score_eval.best_score,\n",
    "                                                         score_eval.last_score),\n",
    "          end=\"\\r\",\n",
    "          flush=True)"
   ]
  },
  {
   "cell_type": "markdown",
   "metadata": {
    "Collapsed": "false"
   },
   "source": [
    "### Dummy Agent"
   ]
  },
  {
   "cell_type": "code",
   "execution_count": 7,
   "metadata": {
    "Collapsed": "false"
   },
   "outputs": [],
   "source": [
    "class DummyAgent:\n",
    "    def __init__(self):\n",
    "        pass\n",
    "    \n",
    "    def act(self, state):\n",
    "        return [np.random.normal(0., .8)]\n"
   ]
  },
  {
   "cell_type": "markdown",
   "metadata": {
    "Collapsed": "true"
   },
   "source": [
    "### Policy-based Agent"
   ]
  },
  {
   "cell_type": "code",
   "execution_count": 8,
   "metadata": {
    "Collapsed": "false"
   },
   "outputs": [],
   "source": [
    "import scipy.stats\n",
    "\n",
    "class PolicyAgent():\n",
    "    def __init__(self, env):\n",
    "        # Task (environment) information\n",
    "        self.env = env\n",
    "        \n",
    "        self.state_size = env.observation_space.shape[0]\n",
    "        self.action_size = env.action_space.shape[0]\n",
    "        \n",
    "        self.action_high = env.action_space.high\n",
    "        self.action_low = env.action_space.low\n",
    "        self.action_range = self.action_high - self.action_low\n",
    "\n",
    "        self.w = np.random.normal(\n",
    "            size=(self.state_size, self.action_size),\n",
    "            scale=(self.action_range / 10))\n",
    "\n",
    "        self.best_w1 = None\n",
    "        \n",
    "        self.best_score = -np.inf\n",
    "        \n",
    "        self.noise = 1\n",
    "        \n",
    "        self.alpha = 1e-10\n",
    "\n",
    "        self.reset_episode()\n",
    "        \n",
    "        self.find_better = 1\n",
    "        \n",
    "        self.std = self.action_range / 1000\n",
    "        \n",
    "        \n",
    "\n",
    "    def reset_episode(self):\n",
    "        self.total_reward = 0.0\n",
    "\n",
    "    def step(self, next_state, reward, done, action):\n",
    "        self.total_reward += reward\n",
    "\n",
    "        self.learn(action, reward)\n",
    "#         if done:\n",
    "#             self.learn(action)\n",
    "\n",
    "    def act(self, state):\n",
    "        mean = np.dot(state, self.w)\n",
    "\n",
    "        self.last_state = state\n",
    "\n",
    "        return np.random.normal(mean, scale=self.std)\n",
    "    \n",
    "    def learn(self, action, reward):\n",
    "        grad = self._gradiant(action, np.array([self.last_state]))\n",
    "        delta = self.alpha * grad * reward\n",
    "        self.w += delta.T\n",
    "    \n",
    "    def learn_in_the_end(self, action):\n",
    "        grad = self._gradiant(action, np.array([self.last_state]))\n",
    "        delta = self.alpha * grad * self.total_reward\n",
    "\n",
    "        self.w -= delta.T\n",
    "        \n",
    "    def _gradiant(self, action, state):\n",
    "        # -1 / (5*std³)\n",
    "        cal = (-1 / (5 * self.std ** 3)) * (2*action*state - 2*state)\n",
    "        return cal\n"
   ]
  },
  {
   "cell_type": "markdown",
   "metadata": {
    "Collapsed": "true"
   },
   "source": [
    "### Buffer"
   ]
  },
  {
   "cell_type": "code",
   "execution_count": 9,
   "metadata": {
    "Collapsed": "false"
   },
   "outputs": [],
   "source": [
    "import random\n",
    "from collections import namedtuple, deque\n",
    "from itertools import count\n",
    "from uuid import uuid4\n",
    "\n",
    "class Buffer:\n",
    "    \"\"\"Fixed-size buffer to store experience tuples.\"\"\"\n",
    "\n",
    "    def __init__(self, buffer_size, batch_size):\n",
    "        \"\"\"Initialize a ReplayBuffer object.\n",
    "        Params\n",
    "        ======\n",
    "            buffer_size: maximum size of buffer\n",
    "            batch_size: size of each training batch\n",
    "        \"\"\"\n",
    "        self.memory = deque(maxlen=buffer_size)\n",
    "        self.batch_size = batch_size\n",
    "        self.experience = namedtuple(\"Experience\",\n",
    "                                     field_names=[\"session\",\n",
    "                                                  \"id\",\n",
    "                                                  \"state\",\n",
    "                                                  \"action\",\n",
    "                                                  \"reward\",\n",
    "                                                  \"next_state\",\n",
    "                                                  \"done\"])\n",
    "\n",
    "    def add(self, session, id, state, action, reward,\n",
    "            next_state, done):\n",
    "        \"\"\"Add a new experience to memory.\"\"\"\n",
    "        e = self.experience(session,\n",
    "                            id,\n",
    "                            state,\n",
    "                            action,\n",
    "                            reward,\n",
    "                            next_state,\n",
    "                            done)\n",
    "        self.memory.append(e)\n",
    "        \n",
    "    def change_reward(self, position, reward):\n",
    "        exp_temp = list(self.memory[position])\n",
    "        exp_temp[4] = reward\n",
    "        self.memory[position] = self.experience(*exp_temp)\n",
    "    \n",
    "    def clear(self):\n",
    "        self.memory.clear()\n",
    "\n",
    "    def sample(self, batch_size=None):\n",
    "        \"\"\"Randomly sample a batch of experiences from memory.\"\"\"\n",
    "        return random.sample(self.memory, k=batch_size)\n",
    "\n",
    "    def __len__(self):\n",
    "        \"\"\"Return the current size of internal memory.\"\"\"\n",
    "        return len(self.memory)\n",
    "    \n",
    "    \n",
    "# testing change_reward\n",
    "x = Buffer(2,2)\n",
    "x.add(1,2,3,4,5,6,7)\n",
    "x.change_reward(0, 377)\n",
    "assert x.memory[0].reward == 377"
   ]
  },
  {
   "cell_type": "markdown",
   "metadata": {
    "Collapsed": "true"
   },
   "source": [
    "### Reinforce Algorithm"
   ]
  },
  {
   "cell_type": "code",
   "execution_count": 10,
   "metadata": {
    "Collapsed": "false"
   },
   "outputs": [],
   "source": [
    "class ReinforceAgent():\n",
    "    def __init__(self, env):\n",
    "        # Task (environment) information\n",
    "        self.env = env\n",
    "        \n",
    "        self.state_size = env.observation_space.shape[0]\n",
    "        self.action_size = env.action_space.shape[0]\n",
    "        \n",
    "        self.action_high = env.action_space.high\n",
    "        self.action_low = env.action_space.low\n",
    "        self.action_range = self.action_high - self.action_low\n",
    "\n",
    "        self.w = np.random.normal(\n",
    "            size=(self.state_size, self.action_size),\n",
    "            scale=(self.action_range) / 10)\n",
    "        \n",
    "        self.w2 = np.random.normal(\n",
    "            size=(self.state_size, self.action_size),\n",
    "            scale=(self.action_range) / 10)\n",
    "        \n",
    "        self.alpha = 1e-10\n",
    "   \n",
    "        self.find_better = 1\n",
    "        \n",
    "        self.std = self.action_range / 10\n",
    "        \n",
    "        self.buffer = Buffer(512, 32)\n",
    "\n",
    "        self.reset_episode()\n",
    "\n",
    "    def reset_episode(self):\n",
    "        self.cumulative_reward = 0.0\n",
    "        self.buffer.clear()\n",
    "\n",
    "    def act(self, state):\n",
    "        mean = self._mean(state)\n",
    "        std = self._std(state)\n",
    "        action = np.random.normal(mean, scale=std)\n",
    "    \n",
    "        self.last_state = state\n",
    "        self.last_action = action\n",
    "        \n",
    "        return mean\n",
    "    \n",
    "    \n",
    "    def step(self, next_state, reward, done):        \n",
    "        self.buffer.add(self.last_state,\n",
    "                        self.last_action,\n",
    "                        reward,\n",
    "                        next_state,\n",
    "                        done,\n",
    "                        self.cumulative_reward)\n",
    "        \n",
    "        self.cumulative_reward += reward\n",
    "\n",
    "        if done:\n",
    "            self.learn()\n",
    "\n",
    "    def learn(self):\n",
    "        for (state, action, reward, next_state,\n",
    "             done, cumulative_reward) in self.buffer.memory:\n",
    "            grad = self._gradiant(state, action).T\n",
    "            \n",
    "            self.w += (self.alpha\n",
    "                       * grad\n",
    "                       * reward)\n",
    "            \n",
    "        for (state, action, reward, next_state,\n",
    "             done, cumulative_reward) in self.buffer.sample():\n",
    "            grad = self._gradiant(state, action).T          \n",
    "\n",
    "            self.w += (self.alpha\n",
    "                       * grad\n",
    "                       * (self.cumulative_reward\n",
    "                          - cumulative_reward))   \n",
    "        \n",
    "    def _mean(self, s):\n",
    "        return np.dot(s, self.w)\n",
    "    \n",
    "    def _std(self, s):\n",
    "        return np.dot(s, self.w2)\n",
    "    \n",
    "    def _gradiant(self, s, action):\n",
    "        mean = self._mean(s)       \n",
    "        \n",
    "        cal = (s / (self.std ** 2)) * (action - mean)\n",
    "        return np.array([cal])"
   ]
  },
  {
   "cell_type": "markdown",
   "metadata": {
    "Collapsed": "true"
   },
   "source": [
    "### Reinforce Algorithm std and Mean variation"
   ]
  },
  {
   "cell_type": "code",
   "execution_count": 11,
   "metadata": {
    "Collapsed": "false"
   },
   "outputs": [],
   "source": [
    "class ReinforceAgentAdvanced():\n",
    "    def __init__(self, env):\n",
    "        # Task (environment) information\n",
    "        self.env = env\n",
    "        \n",
    "        self.state_size = env.observation_space.shape[0] * 3\n",
    "        self.action_size = env.action_space.shape[0]\n",
    "        \n",
    "        self.action_high = env.action_space.high\n",
    "        self.action_low = env.action_space.low\n",
    "        self.action_range = self.action_high - self.action_low\n",
    "\n",
    "        self.w = np.random.normal(\n",
    "            size=(self.state_size, self.action_size),\n",
    "            scale=(self.action_range) / 4)\n",
    "        \n",
    "        self.w2 = abs(np.random.normal(\n",
    "            size=(self.state_size, self.action_size),\n",
    "            scale=(self.action_range) / 4))\n",
    "        \n",
    "        self.alpha = 1e-1\n",
    "        self.gamma = 1\n",
    "   \n",
    "        self.find_better = 1\n",
    "        \n",
    "        self.all_rewards = []\n",
    "        \n",
    "        self.buffer = Buffer(30000, 192)\n",
    "        self.sample_size = 512\n",
    "\n",
    "        self.reset_episode()\n",
    "\n",
    "    def reset_episode(self):\n",
    "#         self.buffer.clear()\n",
    "        self.all_rewards.clear()\n",
    "        self.current_id = 0\n",
    "        self.session = str(uuid4().hex)\n",
    "\n",
    "    def act(self, state, explore=False):\n",
    "        if explore:\n",
    "            action = np.array([np.random.uniform(-1,1)])\n",
    "        else:\n",
    "            mean = self._mean(state)\n",
    "            std = self._std(state)\n",
    "            action = np.random.normal(mean, scale=std)\n",
    "    \n",
    "        self.last_state = state\n",
    "        self.last_action = action\n",
    "        \n",
    "        return action\n",
    "    \n",
    "    def step(self, next_state, reward, done):\n",
    "        self.buffer.add(self.session,\n",
    "                        self.current_id,\n",
    "                        self.last_state,\n",
    "                        self.last_action,\n",
    "                        reward,\n",
    "                        next_state,\n",
    "                        done)\n",
    "        \n",
    "        self.current_id += 1\n",
    "        self.all_rewards.append(reward)\n",
    "\n",
    "        self.learn(done)\n",
    "            \n",
    "    def learn(self, done):        \n",
    "        mean_discount_reward = np.mean(self.all_rewards)\n",
    "        std_discount_reward = np.std(self.all_rewards)\n",
    "        \n",
    "        # update all rewards in buffer \n",
    "        # with cumulative normalized reward\n",
    "        if done:\n",
    "            for position, (session, id, _, _, reward, _ ,\n",
    "                           _) in enumerate(self.buffer.memory):          \n",
    "                # avoiding rows for different sessions (episodes)\n",
    "                if session != self.session:\n",
    "                    continue\n",
    "\n",
    "                # creating generator with gammas\n",
    "                dis = (self.gamma ** i for i in count(start=0, step=1))\n",
    "\n",
    "                # using the gen and the rewards to calc cumulative\n",
    "                cumulative_reward = sum([r*d for r, d\n",
    "                                         in zip(self.all_rewards[id:],\n",
    "                                                dis)])\n",
    "\n",
    "                # normalizing the cumulative reward\n",
    "                normal_rew = ((cumulative_reward - mean_discount_reward)\n",
    "                              / std_discount_reward)\n",
    "\n",
    "                # changing the reward on the buffer (using raw position)\n",
    "                self.buffer.change_reward(position, normal_rew) \n",
    "        \n",
    "        for (session, id, state, action, reward, next_state,\n",
    "             done) in self.buffer.sample(min(len(self.buffer.memory),\n",
    "                                             self.sample_size)):\n",
    "            if session != self.session:\n",
    "                continue \n",
    "                     \n",
    "            grad = self._gradiant(state, action).T \n",
    "            delta = ((1/(id+1))\n",
    "                     * grad\n",
    "                     * reward)\n",
    "            self.w += delta\n",
    "            \n",
    "            grad_2 = self._gradiant_2(state, action).T          \n",
    "            delta_2 = ((1/(id+1))\n",
    "                       * grad_2\n",
    "                       * reward)\n",
    "\n",
    "            self.w2 += delta_2\n",
    "        \n",
    "    def _mean(self, s):\n",
    "        state = np.concatenate((s, [s[0]**2, s[1]**2, s[2]**2,\n",
    "                                  s[0]*s[1], s[0]*s[2], s[1]*s[2]]))\n",
    "        return np.dot(state, self.w)\n",
    "    \n",
    "    def _std(self, s):\n",
    "        state = np.concatenate((s, [s[0]**2, s[1]**2, s[2]**2,\n",
    "                                  s[0]*s[1], s[0]*s[2], s[1]*s[2]]))\n",
    "        return abs(np.dot(state, self.w2))\n",
    "    \n",
    "    def _gradiant(self, s, action):\n",
    "        mean = self._mean(s)       \n",
    "        std = self._std(s)\n",
    "        \n",
    "        state = np.concatenate((s, [s[0]**2, s[1]**2, s[2]**2,\n",
    "                                  s[0]*s[1], s[0]*s[2], s[1]*s[2]]))\n",
    "        \n",
    "        cal = (state / (std ** 2)) * (action - mean)\n",
    "        return np.array([cal])\n",
    "    \n",
    "    def _gradiant_2(self, s, action):\n",
    "        mean = self._mean(s)       \n",
    "        std = self._std(s)\n",
    "        \n",
    "        state = np.concatenate((s, [s[0]**2, s[1]**2, s[2]**2,\n",
    "                                  s[0]*s[1], s[0]*s[2], s[1]*s[2]]))\n",
    "        \n",
    "        cal = state*(mean + std - action)*(-mean + std + action)/(std ** 3)\n",
    "        return np.array([cal])"
   ]
  },
  {
   "cell_type": "markdown",
   "metadata": {
    "Collapsed": "true"
   },
   "source": [
    "#### Training"
   ]
  },
  {
   "cell_type": "code",
   "execution_count": 12,
   "metadata": {
    "Collapsed": "false"
   },
   "outputs": [
    {
     "name": "stdout",
     "output_type": "stream",
     "text": [
      "   9 - Best Score: -876.23 - -876.2382\r"
     ]
    },
    {
     "data": {
      "image/png": "[encoded data removed]",
      "text/plain": [
       "<Figure size 432x288 with 1 Axes>"
      ]
     },
     "metadata": {
      "needs_background": "light"
     },
     "output_type": "display_data"
    }
   ],
   "source": [
    "num_episodes = 10\n",
    "\n",
    "agent = ReinforceAgentAdvanced(env)\n",
    "\n",
    "best_score = -np.inf\n",
    "\n",
    "avg_scores = deque(maxlen=num_episodes)\n",
    "\n",
    "score_eval = ScoreEvaluator(1)\n",
    "\n",
    "for i in range(num_episodes):  \n",
    "    score = 0\n",
    "    state = env.reset()\n",
    "    agent.reset_episode()\n",
    "    \n",
    "    while True:\n",
    "        action = agent.act(state)\n",
    "        state, reward, done, _ = env.step(action)\n",
    "        \n",
    "        agent.step(state, reward, done)\n",
    "        \n",
    "        score += reward\n",
    "        if done:\n",
    "            score_eval.add(score)\n",
    "            print_iteaction(i, score_eval)\n",
    "            break\n",
    "            \n",
    "score_eval.plot_avg_scores()\n",
    "\n",
    "state = env.reset()\n",
    "\n",
    "for i in range(2):\n",
    "    state = env.reset()\n",
    "    while True:\n",
    "        env.render()\n",
    "        agent.reset_episode()\n",
    "        action = agent.act(state)\n",
    "        state, reward, done, _ = env.step(action)\n",
    "        if done:\n",
    "            break\n",
    "        \n",
    "env.close()"
   ]
  },
  {
   "cell_type": "markdown",
   "metadata": {
    "Collapsed": "false"
   },
   "source": [
    "### DDPG Actor/Critic"
   ]
  },
  {
   "cell_type": "code",
   "execution_count": 8,
   "metadata": {
    "Collapsed": "false"
   },
   "outputs": [],
   "source": [
    "import random\n",
    "from collections import namedtuple, deque\n",
    "\n",
    "class ReplayBuffer:\n",
    "    \"\"\"Fixed-size buffer to store experience tuples.\"\"\"\n",
    "\n",
    "    def __init__(self, buffer_size, batch_size):\n",
    "        \"\"\"Initialize a ReplayBuffer object.\n",
    "        Params\n",
    "        ======\n",
    "            buffer_size: maximum size of buffer\n",
    "            batch_size: size of each training batch\n",
    "        \"\"\"\n",
    "        self.memory = deque(maxlen=buffer_size)  # internal memory (deque)\n",
    "        self.batch_size = batch_size\n",
    "        self.experience = namedtuple(\"Experience\", field_names=[\"state\", \"action\", \"reward\", \"next_state\", \"done\"])\n",
    "\n",
    "    def add(self, state, action, reward, next_state, done):\n",
    "        \"\"\"Add a new experience to memory.\"\"\"\n",
    "        e = self.experience(state, action, reward, next_state, done)\n",
    "        self.memory.append(e)\n",
    "\n",
    "    def sample(self, batch_size=64):\n",
    "        \"\"\"Randomly sample a batch of experiences from memory.\"\"\"\n",
    "        return random.sample(self.memory, k=self.batch_size)\n",
    "\n",
    "    def __len__(self):\n",
    "        \"\"\"Return the current size of internal memory.\"\"\"\n",
    "        return len(self.memory)\n",
    "    \n",
    "import numpy as np\n",
    "import copy\n",
    "\n",
    "class OUNoise:\n",
    "    \"\"\"Ornstein-Uhlenbeck process.\"\"\"\n",
    "\n",
    "    def __init__(self, size, mu, theta, sigma):\n",
    "        \"\"\"Initialize parameters and noise process.\"\"\"\n",
    "        self.mu = mu * np.ones(size)\n",
    "        self.theta = theta\n",
    "        self.sigma = sigma\n",
    "        self.reset()\n",
    "\n",
    "    def reset(self):\n",
    "        \"\"\"Reset the internal state (= noise) to mean (mu).\"\"\"\n",
    "        self.state = copy.copy(self.mu)\n",
    "\n",
    "    def sample(self):\n",
    "        \"\"\"Update internal state and return it as a noise sample.\"\"\"\n",
    "        x = self.state\n",
    "        dx = self.theta * (self.mu - x) + self.sigma * np.random.randn(len(x))\n",
    "        self.state = x + dx\n",
    "        return self.state"
   ]
  },
  {
   "cell_type": "code",
   "execution_count": 22,
   "metadata": {
    "Collapsed": "false"
   },
   "outputs": [],
   "source": [
    "class DDPGAgent():\n",
    "    \"\"\"Reinforcement Learning agent that learns using DDPG.\"\"\"\n",
    "    def __init__(self, env):  \n",
    "        self.env = env\n",
    "        self.state_size = env.observation_space.shape[0]\n",
    "        self.action_size = env.action_space.shape[0]\n",
    "        self.action_high = env.action_space.high\n",
    "        self.action_low = env.action_space.low\n",
    "        self.action_range = self.action_high - self.action_low\n",
    "\n",
    "        # Actor (Policy) Model\n",
    "        self.actor_local = Actor(self.state_size, self.action_size, self.action_low, self.action_high)\n",
    "        self.actor_target = Actor(self.state_size, self.action_size, self.action_low, self.action_high)\n",
    "\n",
    "        # Critic (Value) Model\n",
    "        self.critic_local = Critic(self.state_size, self.action_size)\n",
    "        self.critic_target = Critic(self.state_size, self.action_size)\n",
    "\n",
    "        # Initialize target model parameters with local model parameters\n",
    "        self.critic_target.model.set_weights(self.critic_local.model.get_weights())\n",
    "        self.actor_target.model.set_weights(self.actor_local.model.get_weights())\n",
    "\n",
    "        # Noise process\n",
    "        self.exploration_mu = 0\n",
    "        self.exploration_theta = 0.15\n",
    "        self.exploration_sigma = 0.2\n",
    "        self.noise = OUNoise(self.action_size, self.exploration_mu, self.exploration_theta, self.exploration_sigma)\n",
    "\n",
    "        # Replay memory\n",
    "        self.buffer_size = 10000\n",
    "        self.batch_size = 64\n",
    "        self.memory = ReplayBuffer(self.buffer_size, self.batch_size)\n",
    "\n",
    "        # Algorithm parameters\n",
    "        self.gamma = 0.99  # discount factor\n",
    "        self.tau = 0.01  # for soft update of target parameters\n",
    "\n",
    "    def reset_episode(self):\n",
    "        self.noise.reset()\n",
    "        self.last_state = state\n",
    "\n",
    "    def step(self, action, reward, next_state, done):\n",
    "         # Save experience / reward\n",
    "        self.memory.add(self.last_state, action, reward, next_state, done)\n",
    "\n",
    "        # Learn, if enough samples are available in memory\n",
    "        if len(self.memory) > self.batch_size:\n",
    "            experiences = self.memory.sample()\n",
    "            self.learn(experiences)\n",
    "\n",
    "        # Roll over last state and action\n",
    "        self.last_state = next_state\n",
    "\n",
    "    def act(self, state):\n",
    "        \"\"\"Returns actions for given state(s) as per current policy.\"\"\"\n",
    "        state = np.reshape(state, [-1, self.state_size])\n",
    "        action = self.actor_local.model.predict(state)[0]\n",
    "        return list(action + self.noise.sample())  # add some noise for exploration\n",
    "\n",
    "    def learn(self, experiences):\n",
    "        \"\"\"Update policy and value parameters using given batch of experience tuples.\"\"\"\n",
    "        # Convert experience tuples to separate arrays for each element (states, actions, rewards, etc.)\n",
    "        states = np.vstack([e.state for e in experiences if e is not None])\n",
    "        actions = np.array([e.action for e in experiences if e is not None]).astype(np.float32).reshape(-1, self.action_size)\n",
    "        rewards = np.array([e.reward for e in experiences if e is not None]).astype(np.float32).reshape(-1, 1)\n",
    "        dones = np.array([e.done for e in experiences if e is not None]).astype(np.uint8).reshape(-1, 1)\n",
    "        next_states = np.vstack([e.next_state for e in experiences if e is not None])\n",
    "\n",
    "        # Get predicted next-state actions and Q values from target models\n",
    "        #     Q_targets_next = critic_target(next_state, actor_target(next_state))\n",
    "        actions_next = self.actor_target.model.predict_on_batch(next_states)\n",
    "        Q_targets_next = self.critic_target.model.predict_on_batch([next_states, actions_next])\n",
    "\n",
    "        # Compute Q targets for current states and train critic model (local)\n",
    "        Q_targets = rewards + self.gamma * Q_targets_next * (1 - dones)\n",
    "        self.critic_local.model.train_on_batch(x=[states, actions], y=Q_targets)\n",
    "\n",
    "        # Train actor model (local)\n",
    "        action_gradients = np.reshape(self.critic_local.get_action_gradients([states, actions, 0]), (-1, self.action_size))\n",
    "        self.actor_local.train_fn([states, action_gradients, 1])  # custom training function\n",
    "\n",
    "        # Soft-update target models\n",
    "        self.soft_update(self.critic_local.model, self.critic_target.model)\n",
    "        self.soft_update(self.actor_local.model, self.actor_target.model)   \n",
    "\n",
    "    def soft_update(self, local_model, target_model):\n",
    "        \"\"\"Soft update model parameters.\"\"\"\n",
    "        local_weights = np.array(local_model.get_weights())\n",
    "        target_weights = np.array(target_model.get_weights())\n",
    "\n",
    "        assert len(local_weights) == len(target_weights), \"Local and target model parameters must have the same size\"\n",
    "\n",
    "        new_weights = self.tau * local_weights + (1 - self.tau) * target_weights\n",
    "        target_model.set_weights(new_weights)"
   ]
  },
  {
   "cell_type": "markdown",
   "metadata": {
    "Collapsed": "true"
   },
   "source": [
    "### Actor-Critic method simplified"
   ]
  },
  {
   "cell_type": "code",
   "execution_count": 108,
   "metadata": {
    "Collapsed": "false"
   },
   "outputs": [],
   "source": [
    "import tensorflow as tf\n",
    "import numpy as np\n",
    "import gym\n",
    "\n",
    "from keras import layers, models, optimizers\n",
    "from keras import backend as K\n",
    "import keras\n",
    "\n",
    "from ipdb import set_trace as debug\n",
    "\n",
    "# np.random.seed(2)\n",
    "# tf.set_random_seed(2)  # reproducible\n",
    "\n",
    "sess = tf.Session()\n",
    "\n",
    "import keras.backend as K\n",
    "\n",
    "def gaussian(x):\n",
    "    return K.exp(-K.pow(x,2))\n",
    "\n",
    "class Actor():\n",
    "    def __init__(self, env, lr=0.0001):\n",
    "        self.env = env\n",
    "        \n",
    "        self.state_size = env.observation_space.shape\n",
    "        self.action_size = env.action_space.shape[0]\n",
    "        self.action_high = env.action_space.high\n",
    "        self.action_low = env.action_space.low\n",
    "        self.action_range = self.action_high - self.action_low\n",
    "\n",
    "#         self.s = tf.placeholder(tf.float32, [1, n_features], \"state\")\n",
    "#         self.a = tf.placeholder(tf.float32, None, name=\"act\")\n",
    "#         self.td_error = tf.placeholder(tf.float32, None, name=\"td_error\")\n",
    "\n",
    "        states = layers.Input(shape=self.state_size, name='states')\n",
    "        \n",
    "        layer_1 = layers.Dense(\n",
    "            units=30,\n",
    "            activation='relu',\n",
    "            kernel_initializer=keras.initializers.RandomNormal(mean=.0,\n",
    "                                                               stddev=.1),\n",
    "            bias_initializer=keras.initializers.Constant(value=0.1),\n",
    "        )(states)\n",
    "        \n",
    "        median = layers.Dense(\n",
    "            units=1,\n",
    "            activation='tanh',\n",
    "            kernel_initializer=keras.initializers.RandomNormal(mean=.0,\n",
    "                                                               stddev=.1),\n",
    "            bias_initializer=keras.initializers.Constant(value=0.1),\n",
    "        )(layer_1)\n",
    "    \n",
    "        sigma = layers.Dense(\n",
    "            units=1,\n",
    "            activation='softplus',\n",
    "            kernel_initializer=keras.initializers.RandomNormal(mean=.0,\n",
    "                                                               stddev=.1),\n",
    "            bias_initializer=keras.initializers.Constant(value=1.),\n",
    "        )(layer_1)\n",
    "        \n",
    "        combined = layers.concatenate([median, sigma])\n",
    "        \n",
    "        def gaussian(x):\n",
    "            median, sigma = tf.squeeze(x[0][0]*2), tf.squeeze(x[0][1]+0.1)\n",
    "            return K.random_normal((1,), mean=median, stddev=sigma)\n",
    "#             return np.array([np.random.normal(median, abs(sigma))], dtype=float)\n",
    "#             return tf.distributions.Normal(median, sigma)\n",
    "        \n",
    "        actions = layers.Activation(gaussian)(combined)\n",
    "        \n",
    "#         actions = layers.Lambda(gaussian)(combined)\n",
    "        \n",
    "        self.model = models.Model(inputs=[states], outputs=actions)\n",
    "        \n",
    "        # Define optimizer and compile model for training with built-in loss function\n",
    "        optimizer = optimizers.Adam(lr=1e-3)\n",
    "        self.model.compile(optimizer=optimizer, loss='mse')\n",
    "\n",
    "#         # Compute action gradients (derivative of Q values w.r.t. to actions)\n",
    "#         action_gradients = K.gradients(Q_values, actions)\n",
    "\n",
    "#         # Define an additional function to fetch action gradients (to be used by actor model)\n",
    "#         self.get_action_gradients = K.function(\n",
    "#             inputs=[*self.model.input, K.learning_phase()],\n",
    "#             outputs=action_gradients)\n",
    "        \n",
    "#         debug()\n",
    "        \n",
    "#         global_step = tf.Variable(0, trainable=False)\n",
    "\n",
    "#         self.action = tf.clip_by_value(self.normal_dist.sample(1),\n",
    "#                                        self.action_low,\n",
    "#                                        self.action_high)\n",
    "\n",
    "#         with tf.name_scope('exp_v'):\n",
    "#             log_prob = self.normal_dist.log_prob(self.a)  # loss without advantage\n",
    "            \n",
    "#             self.exp_v = log_prob * self.td_error  # advantage (TD_error) guided loss\n",
    "            \n",
    "#             # Add cross entropy cost to encourage exploration\n",
    "#             self.exp_v += 0.01*self.normal_dist.entropy()\n",
    "\n",
    "#         with tf.name_scope('train'):\n",
    "#             self.train_op = tf.train.AdamOptimizer(lr).minimize(-self.exp_v, global_step)    # min(v) = max(-v)\n",
    "\n",
    "    def learn(self, state, action, td):\n",
    "        s = s[np.newaxis, :]\n",
    "        feed_dict = {self.s: s, self.a: a, self.td_error: td}\n",
    "        _, exp_v = sess.run([self.train_op, self.exp_v], feed_dict)\n",
    "        return exp_v\n",
    "\n",
    "    def act(self, state):\n",
    "        state = state[np.newaxis, :]\n",
    "        return sess.run(self.action, {self.state: s})  # get probabilities for all actions"
   ]
  },
  {
   "cell_type": "code",
   "execution_count": 18,
   "metadata": {
    "Collapsed": "false"
   },
   "outputs": [
    {
     "data": {
      "text/plain": [
       "[array([[0.37464064]], dtype=float32), array([[1.2310231]], dtype=float32)]"
      ]
     },
     "execution_count": 18,
     "metadata": {},
     "output_type": "execute_result"
    }
   ],
   "source": [
    "act = Actor(env)\n",
    "act.model.predict(np.reshape([1,2,3], [-1, 3]))\n"
   ]
  },
  {
   "cell_type": "code",
   "execution_count": 6,
   "metadata": {
    "Collapsed": "false"
   },
   "outputs": [
    {
     "name": "stdout",
     "output_type": "stream",
     "text": [
      "> \u001b[0;32m<ipython-input-5-f66113186dff>\u001b[0m(77)\u001b[0;36m__init__\u001b[0;34m()\u001b[0m\n",
      "\u001b[0;32m     76 \u001b[0;31m\u001b[0;34m\u001b[0m\u001b[0m\n",
      "\u001b[0m\u001b[0;32m---> 77 \u001b[0;31m        \u001b[0mglobal_step\u001b[0m \u001b[0;34m=\u001b[0m \u001b[0mtf\u001b[0m\u001b[0;34m.\u001b[0m\u001b[0mVariable\u001b[0m\u001b[0;34m(\u001b[0m\u001b[0;36m0\u001b[0m\u001b[0;34m,\u001b[0m \u001b[0mtrainable\u001b[0m\u001b[0;34m=\u001b[0m\u001b[0;32mFalse\u001b[0m\u001b[0;34m)\u001b[0m\u001b[0;34m\u001b[0m\u001b[0;34m\u001b[0m\u001b[0m\n",
      "\u001b[0m\u001b[0;32m     78 \u001b[0;31m\u001b[0;34m\u001b[0m\u001b[0m\n",
      "\u001b[0m\n"
     ]
    },
    {
     "name": "stdin",
     "output_type": "stream",
     "text": [
      "ipdb>  self.model.predict(np.array([1,2,3])\n"
     ]
    },
    {
     "name": "stdout",
     "output_type": "stream",
     "text": [
      "*** SyntaxError: unexpected EOF while parsing\n"
     ]
    },
    {
     "name": "stdin",
     "output_type": "stream",
     "text": [
      "ipdb>  self.model.predict(np.array([1,2,3]))\n"
     ]
    },
    {
     "name": "stdout",
     "output_type": "stream",
     "text": [
      "*** ValueError: Error when checking input: expected states to have shape (3,) but got array with shape (1,)\n"
     ]
    },
    {
     "name": "stdin",
     "output_type": "stream",
     "text": [
      "ipdb>  q\n"
     ]
    },
    {
     "ename": "BdbQuit",
     "evalue": "",
     "output_type": "error",
     "traceback": [
      "\u001b[0;31m-------------------------\u001b[0m",
      "\u001b[0;31mBdbQuit\u001b[0mTraceback (most recent call last)",
      "\u001b[0;32m<ipython-input-6-32ebf244065b>\u001b[0m in \u001b[0;36m<module>\u001b[0;34m\u001b[0m\n\u001b[1;32m     79\u001b[0m \u001b[0msess\u001b[0m \u001b[0;34m=\u001b[0m \u001b[0mtf\u001b[0m\u001b[0;34m.\u001b[0m\u001b[0mSession\u001b[0m\u001b[0;34m(\u001b[0m\u001b[0;34m)\u001b[0m\u001b[0;34m\u001b[0m\u001b[0;34m\u001b[0m\u001b[0m\n\u001b[1;32m     80\u001b[0m \u001b[0;34m\u001b[0m\u001b[0m\n\u001b[0;32m---> 81\u001b[0;31m \u001b[0mactor\u001b[0m \u001b[0;34m=\u001b[0m \u001b[0mActor\u001b[0m\u001b[0;34m(\u001b[0m\u001b[0menv\u001b[0m\u001b[0;34m,\u001b[0m \u001b[0mlr\u001b[0m\u001b[0;34m=\u001b[0m\u001b[0mLR_A\u001b[0m\u001b[0;34m)\u001b[0m\u001b[0;34m\u001b[0m\u001b[0;34m\u001b[0m\u001b[0m\n\u001b[0m\u001b[1;32m     82\u001b[0m \u001b[0mcritic\u001b[0m \u001b[0;34m=\u001b[0m \u001b[0mCritic\u001b[0m\u001b[0;34m(\u001b[0m\u001b[0msess\u001b[0m\u001b[0;34m,\u001b[0m \u001b[0mn_features\u001b[0m\u001b[0;34m=\u001b[0m\u001b[0mN_S\u001b[0m\u001b[0;34m,\u001b[0m \u001b[0mlr\u001b[0m\u001b[0;34m=\u001b[0m\u001b[0mLR_C\u001b[0m\u001b[0;34m)\u001b[0m\u001b[0;34m\u001b[0m\u001b[0;34m\u001b[0m\u001b[0m\n\u001b[1;32m     83\u001b[0m \u001b[0;34m\u001b[0m\u001b[0m\n",
      "\u001b[0;32m<ipython-input-5-f66113186dff>\u001b[0m in \u001b[0;36m__init__\u001b[0;34m(self, env, lr)\u001b[0m\n\u001b[1;32m     75\u001b[0m         \u001b[0mdebug\u001b[0m\u001b[0;34m(\u001b[0m\u001b[0;34m)\u001b[0m\u001b[0;34m\u001b[0m\u001b[0;34m\u001b[0m\u001b[0m\n\u001b[1;32m     76\u001b[0m \u001b[0;34m\u001b[0m\u001b[0m\n\u001b[0;32m---> 77\u001b[0;31m         \u001b[0mglobal_step\u001b[0m \u001b[0;34m=\u001b[0m \u001b[0mtf\u001b[0m\u001b[0;34m.\u001b[0m\u001b[0mVariable\u001b[0m\u001b[0;34m(\u001b[0m\u001b[0;36m0\u001b[0m\u001b[0;34m,\u001b[0m \u001b[0mtrainable\u001b[0m\u001b[0;34m=\u001b[0m\u001b[0;32mFalse\u001b[0m\u001b[0;34m)\u001b[0m\u001b[0;34m\u001b[0m\u001b[0;34m\u001b[0m\u001b[0m\n\u001b[0m\u001b[1;32m     78\u001b[0m \u001b[0;34m\u001b[0m\u001b[0m\n\u001b[1;32m     79\u001b[0m         self.action = tf.clip_by_value(self.normal_dist.sample(1),\n",
      "\u001b[0;32m<ipython-input-5-f66113186dff>\u001b[0m in \u001b[0;36m__init__\u001b[0;34m(self, env, lr)\u001b[0m\n\u001b[1;32m     75\u001b[0m         \u001b[0mdebug\u001b[0m\u001b[0;34m(\u001b[0m\u001b[0;34m)\u001b[0m\u001b[0;34m\u001b[0m\u001b[0;34m\u001b[0m\u001b[0m\n\u001b[1;32m     76\u001b[0m \u001b[0;34m\u001b[0m\u001b[0m\n\u001b[0;32m---> 77\u001b[0;31m         \u001b[0mglobal_step\u001b[0m \u001b[0;34m=\u001b[0m \u001b[0mtf\u001b[0m\u001b[0;34m.\u001b[0m\u001b[0mVariable\u001b[0m\u001b[0;34m(\u001b[0m\u001b[0;36m0\u001b[0m\u001b[0;34m,\u001b[0m \u001b[0mtrainable\u001b[0m\u001b[0;34m=\u001b[0m\u001b[0;32mFalse\u001b[0m\u001b[0;34m)\u001b[0m\u001b[0;34m\u001b[0m\u001b[0;34m\u001b[0m\u001b[0m\n\u001b[0m\u001b[1;32m     78\u001b[0m \u001b[0;34m\u001b[0m\u001b[0m\n\u001b[1;32m     79\u001b[0m         self.action = tf.clip_by_value(self.normal_dist.sample(1),\n",
      "\u001b[0;32m/usr/local/lib/python3.7/bdb.py\u001b[0m in \u001b[0;36mtrace_dispatch\u001b[0;34m(self, frame, event, arg)\u001b[0m\n\u001b[1;32m     86\u001b[0m             \u001b[0;32mreturn\u001b[0m \u001b[0;31m# None\u001b[0m\u001b[0;34m\u001b[0m\u001b[0;34m\u001b[0m\u001b[0m\n\u001b[1;32m     87\u001b[0m         \u001b[0;32mif\u001b[0m \u001b[0mevent\u001b[0m \u001b[0;34m==\u001b[0m \u001b[0;34m'line'\u001b[0m\u001b[0;34m:\u001b[0m\u001b[0;34m\u001b[0m\u001b[0;34m\u001b[0m\u001b[0m\n\u001b[0;32m---> 88\u001b[0;31m             \u001b[0;32mreturn\u001b[0m \u001b[0mself\u001b[0m\u001b[0;34m.\u001b[0m\u001b[0mdispatch_line\u001b[0m\u001b[0;34m(\u001b[0m\u001b[0mframe\u001b[0m\u001b[0;34m)\u001b[0m\u001b[0;34m\u001b[0m\u001b[0;34m\u001b[0m\u001b[0m\n\u001b[0m\u001b[1;32m     89\u001b[0m         \u001b[0;32mif\u001b[0m \u001b[0mevent\u001b[0m \u001b[0;34m==\u001b[0m \u001b[0;34m'call'\u001b[0m\u001b[0;34m:\u001b[0m\u001b[0;34m\u001b[0m\u001b[0;34m\u001b[0m\u001b[0m\n\u001b[1;32m     90\u001b[0m             \u001b[0;32mreturn\u001b[0m \u001b[0mself\u001b[0m\u001b[0;34m.\u001b[0m\u001b[0mdispatch_call\u001b[0m\u001b[0;34m(\u001b[0m\u001b[0mframe\u001b[0m\u001b[0;34m,\u001b[0m \u001b[0marg\u001b[0m\u001b[0;34m)\u001b[0m\u001b[0;34m\u001b[0m\u001b[0;34m\u001b[0m\u001b[0m\n",
      "\u001b[0;32m/usr/local/lib/python3.7/bdb.py\u001b[0m in \u001b[0;36mdispatch_line\u001b[0;34m(self, frame)\u001b[0m\n\u001b[1;32m    111\u001b[0m         \u001b[0;32mif\u001b[0m \u001b[0mself\u001b[0m\u001b[0;34m.\u001b[0m\u001b[0mstop_here\u001b[0m\u001b[0;34m(\u001b[0m\u001b[0mframe\u001b[0m\u001b[0;34m)\u001b[0m \u001b[0;32mor\u001b[0m \u001b[0mself\u001b[0m\u001b[0;34m.\u001b[0m\u001b[0mbreak_here\u001b[0m\u001b[0;34m(\u001b[0m\u001b[0mframe\u001b[0m\u001b[0;34m)\u001b[0m\u001b[0;34m:\u001b[0m\u001b[0;34m\u001b[0m\u001b[0;34m\u001b[0m\u001b[0m\n\u001b[1;32m    112\u001b[0m             \u001b[0mself\u001b[0m\u001b[0;34m.\u001b[0m\u001b[0muser_line\u001b[0m\u001b[0;34m(\u001b[0m\u001b[0mframe\u001b[0m\u001b[0;34m)\u001b[0m\u001b[0;34m\u001b[0m\u001b[0;34m\u001b[0m\u001b[0m\n\u001b[0;32m--> 113\u001b[0;31m             \u001b[0;32mif\u001b[0m \u001b[0mself\u001b[0m\u001b[0;34m.\u001b[0m\u001b[0mquitting\u001b[0m\u001b[0;34m:\u001b[0m \u001b[0;32mraise\u001b[0m \u001b[0mBdbQuit\u001b[0m\u001b[0;34m\u001b[0m\u001b[0;34m\u001b[0m\u001b[0m\n\u001b[0m\u001b[1;32m    114\u001b[0m         \u001b[0;32mreturn\u001b[0m \u001b[0mself\u001b[0m\u001b[0;34m.\u001b[0m\u001b[0mtrace_dispatch\u001b[0m\u001b[0;34m\u001b[0m\u001b[0;34m\u001b[0m\u001b[0m\n\u001b[1;32m    115\u001b[0m \u001b[0;34m\u001b[0m\u001b[0m\n",
      "\u001b[0;31mBdbQuit\u001b[0m: "
     ]
    }
   ],
   "source": [
    "\"\"\"\n",
    "Actor-Critic with continuous action using TD-error as the Advantage, Reinforcement Learning.\n",
    "The Pendulum example (based on https://github.com/dennybritz/reinforcement-learning/blob/master/PolicyGradient/Continuous%20MountainCar%20Actor%20Critic%20Solution.ipynb)\n",
    "Cannot converge!!! oscillate!!!\n",
    "View more on my tutorial page: https://morvanzhou.github.io/tutorials/\n",
    "Using:\n",
    "tensorflow r1.3\n",
    "gym 0.8.0\n",
    "\"\"\"\n",
    "\n",
    "import tensorflow as tf\n",
    "import numpy as np\n",
    "import gym\n",
    "\n",
    "\n",
    "sess = tf.Session()\n",
    "np.random.seed(2)\n",
    "tf.set_random_seed(2)  # reproducible\n",
    "\n",
    "\n",
    "class Critic(object):\n",
    "    def __init__(self, sess, n_features, lr=0.01):\n",
    "        self.sess = sess\n",
    "        with tf.name_scope('inputs'):\n",
    "            self.s = tf.placeholder(tf.float32, [1, n_features], \"state\")\n",
    "            self.v_ = tf.placeholder(tf.float32, [1, 1], name=\"v_next\")\n",
    "            self.r = tf.placeholder(tf.float32, name='r')\n",
    "\n",
    "        with tf.variable_scope('Critic'):\n",
    "            l1 = tf.layers.dense(\n",
    "                inputs=self.s,\n",
    "                units=30,  # number of hidden units\n",
    "                activation=tf.nn.relu,\n",
    "                kernel_initializer=tf.random_normal_initializer(0., .1),  # weights\n",
    "                bias_initializer=tf.constant_initializer(0.1),  # biases\n",
    "                name='l1'\n",
    "            )\n",
    "\n",
    "            self.v = tf.layers.dense(\n",
    "                inputs=l1,\n",
    "                units=1,  # output units\n",
    "                activation=None,\n",
    "                kernel_initializer=tf.random_normal_initializer(0., .1),  # weights\n",
    "                bias_initializer=tf.constant_initializer(0.1),  # biases\n",
    "                name='V'\n",
    "            )\n",
    "\n",
    "        with tf.variable_scope('squared_TD_error'):\n",
    "            self.td_error = tf.reduce_mean(self.r + GAMMA * self.v_ - self.v)\n",
    "            self.loss = tf.square(self.td_error)    # TD_error = (r+gamma*V_next) - V_eval\n",
    "        with tf.variable_scope('train'):\n",
    "            self.train_op = tf.train.AdamOptimizer(lr).minimize(self.loss)\n",
    "\n",
    "    def learn(self, s, r, s_):\n",
    "        s, s_ = s[np.newaxis, :], s_[np.newaxis, :]\n",
    "\n",
    "        v_ = self.sess.run(self.v, {self.s: s_})\n",
    "        td_error, _ = self.sess.run([self.td_error, self.train_op],\n",
    "                                          {self.s: s, self.v_: v_, self.r: r})\n",
    "        return td_error\n",
    "\n",
    "\n",
    "OUTPUT_GRAPH = False\n",
    "MAX_EPISODE = 1000\n",
    "MAX_EP_STEPS = 200\n",
    "DISPLAY_REWARD_THRESHOLD = -100  # renders environment if total episode reward is greater then this threshold\n",
    "RENDER = False  # rendering wastes time\n",
    "GAMMA = 0.9\n",
    "LR_A = 0.001    # learning rate for actor\n",
    "LR_C = 0.01     # learning rate for critic\n",
    "\n",
    "env = gym.make('Pendulum-v0')\n",
    "env.seed(1)  # reproducible\n",
    "env = env.unwrapped\n",
    "\n",
    "N_S = env.observation_space.shape[0]\n",
    "A_BOUND = env.action_space.high\n",
    "\n",
    "sess = tf.Session()\n",
    "\n",
    "actor = Actor(env, lr=LR_A)\n",
    "critic = Critic(sess, n_features=N_S, lr=LR_C)\n",
    "\n",
    "sess.run(tf.global_variables_initializer())\n",
    "\n",
    "if OUTPUT_GRAPH:\n",
    "    tf.summary.FileWriter(\"logs/\", sess.graph)\n",
    "\n",
    "for i_episode in range(MAX_EPISODE):\n",
    "    s = env.reset()\n",
    "    t = 0\n",
    "    ep_rs = []\n",
    "    while True:\n",
    "        if i_episode > 900:\n",
    "            env.render()\n",
    "        a = actor.choose_action(s)\n",
    "\n",
    "        s_, r, done, info = env.step(a)\n",
    "        r /= 10\n",
    "\n",
    "        td_error = critic.learn(s, r, s_)  # gradient = grad[r + gamma * V(s_) - V(s)]\n",
    "        actor.learn(s, a, td_error)  # true_gradient = grad[logPi(s,a) * td_error]\n",
    "\n",
    "        s = s_\n",
    "        t += 1\n",
    "        ep_rs.append(r)\n",
    "        if t > MAX_EP_STEPS:\n",
    "            ep_rs_sum = sum(ep_rs)\n",
    "            if 'running_reward' not in globals():\n",
    "                running_reward = ep_rs_sum\n",
    "            else:\n",
    "                running_reward = running_reward * 0.9 + ep_rs_sum * 0.1\n",
    "            if running_reward > DISPLAY_REWARD_THRESHOLD: RENDER = True  # rendering\n",
    "            print(\"episode:\", i_episode, \"  reward:\", int(running_reward))\n",
    "            break"
   ]
  },
  {
   "cell_type": "markdown",
   "metadata": {
    "Collapsed": "false"
   },
   "source": [
    "### Actor-Critic method simplified 2"
   ]
  },
  {
   "cell_type": "code",
   "execution_count": 155,
   "metadata": {
    "Collapsed": "false"
   },
   "outputs": [],
   "source": [
    "import tensorflow as tf\n",
    "import numpy as np\n",
    "import gym\n",
    "\n",
    "from keras import layers, models, optimizers\n",
    "from keras import backend as K\n",
    "import keras\n",
    "\n",
    "from ipdb import set_trace as debug\n",
    "\n",
    "np.random.seed(37)\n",
    "tf.set_random_seed(43)  # reproducible\n",
    "\n",
    "sess = tf.Session()\n",
    "\n",
    "import keras.backend as K\n",
    "\n",
    "class Actor():\n",
    "    def __init__(self, env, lr=0.0001):\n",
    "        self.env = env\n",
    "        \n",
    "        self.state_size = env.observation_space.shape\n",
    "        self.action_size = env.action_space.shape\n",
    "        self.action_high = env.action_space.high\n",
    "        self.action_low = env.action_space.low\n",
    "        self.action_range = self.action_high - self.action_low\n",
    "        self.lr = lr\n",
    "        \n",
    "        self.adam_optimizer = self.optimizer()\n",
    "        \n",
    "        self.build_model()\n",
    "    \n",
    "    def build_model(self):\n",
    "        states = layers.Input(shape=self.state_size, name='states')\n",
    "        \n",
    "        layer_1 = layers.Dense(\n",
    "            units=30,\n",
    "            activation='relu',\n",
    "            kernel_initializer=keras.initializers.RandomNormal(mean=.0,\n",
    "                                                               stddev=.1),\n",
    "            bias_initializer=keras.initializers.Constant(value=0.1),\n",
    "        )(states)\n",
    "        \n",
    "        median = layers.Dense(\n",
    "            units=1,\n",
    "            activation='tanh',\n",
    "            kernel_initializer=keras.initializers.RandomNormal(mean=.0,\n",
    "                                                               stddev=.1),\n",
    "            bias_initializer=keras.initializers.Constant(value=0.1),\n",
    "        )(layer_1)\n",
    "        \n",
    "        output = layers.Lambda(lambda i: i * self.action_range)(median)\n",
    "\n",
    "        self.model = models.Model(inputs=[states], outputs=[output])\n",
    "        \n",
    "        optimizer = optimizers.Adam(lr=self.lr)\n",
    "        self.model.compile(optimizer=optimizer, loss='mse')\n",
    "            \n",
    "    def predict(self, state):\n",
    "        prediction = self.model.predict(np.expand_dims(state, axis=0))\n",
    "        \n",
    "        return prediction[0]\n",
    "    \n",
    "    def optimizer(self):\n",
    "        action_gdts = K.placeholder(shape=(None, self.action_size))\n",
    "        params_grad = tf.gradients(self.model.output,\n",
    "                                   self.model.trainable_weights,\n",
    "                                   -action_gdts)\n",
    "        \n",
    "        grads = zip(params_grad, self.model.trainable_weights)\n",
    "        \n",
    "        return K.function([self.model.input, action_gdts],\n",
    "                          [tf.train.AdamOptimizer(self.lr).apply_gradients(grads)])\n",
    "    \n",
    "    def train(self, states, actions, grads):\n",
    "#         self.adam_optimizer([states, grads])\n",
    "        self.model.train_on_batch(states, (actions-grads))"
   ]
  },
  {
   "cell_type": "code",
   "execution_count": 156,
   "metadata": {
    "Collapsed": "false"
   },
   "outputs": [],
   "source": [
    "class Critic():\n",
    "    def __init__(self, env, lr=0.0001):\n",
    "        self.env = env\n",
    "        \n",
    "        self.state_size = env.observation_space.shape\n",
    "        self.action_size = env.action_space.shape\n",
    "        self.action_high = env.action_space.high\n",
    "        self.action_low = env.action_space.low\n",
    "        self.action_range = self.action_high - self.action_low\n",
    "        self.lr = lr\n",
    "        \n",
    "        self.build_model()\n",
    "        \n",
    "        self.grads = K.function([self.model.input[0],\n",
    "                                 self.model.input[1]],\n",
    "                                K.gradients(self.model.output,\n",
    "                                            self.model.input[1])) \n",
    "    \n",
    "    def build_model(self):\n",
    "        states = layers.Input(shape=self.state_size, name='states')\n",
    "        actions = layers.Input(shape=self.action_size, name='actions')\n",
    "        \n",
    "        layer_1 = layers.Dense(\n",
    "            units=256,\n",
    "            activation='relu'\n",
    "        )(states)\n",
    "        \n",
    "        layer_2 = layers.concatenate([layer_1, actions])\n",
    "        \n",
    "        layer_3 = layers.Dense(\n",
    "            units=128,\n",
    "            activation='relu'\n",
    "        )(layer_2)\n",
    "    \n",
    "        output = layers.Dense(\n",
    "            units=1,\n",
    "            activation='linear',\n",
    "            kernel_initializer=keras.initializers.RandomUniform()\n",
    "        )(layer_3)\n",
    "\n",
    "        self.model = models.Model(inputs=[states, actions], outputs=output)\n",
    "        \n",
    "        optimizer = optimizers.Adam(lr=self.lr)\n",
    "        \n",
    "        self.model.compile(optimizer=optimizer, loss='mse')\n",
    "        \n",
    "    def action_gradients(self, states, actions):\n",
    "        return self.grads([states, actions])[0]\n",
    "            \n",
    "    def predict(self, state, action):\n",
    "        return self.model.predict([np.expand_dims(state, axis=0),\n",
    "                                   np.expand_dims(action, axis=0)])[0]\n",
    "    \n",
    "    def train_on_batch(self, states, actions, critic_target):\n",
    "        return self.model.train_on_batch([states, actions],\n",
    "                                         critic_target)"
   ]
  },
  {
   "cell_type": "code",
   "execution_count": 157,
   "metadata": {
    "Collapsed": "false"
   },
   "outputs": [],
   "source": [
    "class DDPG:\n",
    "    \"\"\" Deep Deterministic Policy Gradient (DDPG) Helper Class\n",
    "    \"\"\"\n",
    "\n",
    "    def __init__(self, env, buffer_size = 20000,\n",
    "                 gamma = 0.99, lr = 0.00005, tau = 0.001):\n",
    "        \"\"\" Initialization\n",
    "        \"\"\"\n",
    "        # Environment and A2C parameters\n",
    "        \n",
    "        self.state_size = env.observation_space.shape\n",
    "        self.action_size = env.action_space.shape\n",
    "        self.action_high = env.action_space.high\n",
    "        self.action_low = env.action_space.low\n",
    "        self.action_range = self.action_high - self.action_low\n",
    "\n",
    "        self.gamma = gamma\n",
    "        self.lr = lr\n",
    "        # Create actor and critic networks\n",
    "        self.actor = Actor(env, 0.1 * lr)\n",
    "        self.critic = Critic(env, lr)\n",
    "        \n",
    "        self.buffer_size = 10000\n",
    "        self.batch_size = 64\n",
    "        self.memory = ReplayBuffer(self.buffer_size, self.batch_size)\n",
    "\n",
    "    def act(self, state):\n",
    "        self.last_state = state\n",
    "        return self.actor.predict(state)\n",
    "    \n",
    "    def step(self, action, reward, next_state, done):\n",
    "        self.memory.add(self.last_state,\n",
    "                        action,\n",
    "                        reward,\n",
    "                        next_state,\n",
    "                        done)\n",
    "\n",
    "        if len(self.memory) > self.batch_size:\n",
    "            experiences = self.memory.sample()\n",
    "            self.learn(experiences)\n",
    "\n",
    "    def bellman(self, rewards, q_values, dones):\n",
    "        critic_targets = np.asarray(q_values)\n",
    "        for i in range(q_values.shape[0]):\n",
    "            if dones[i]:\n",
    "                critic_targets[i] = rewards[i]\n",
    "            else:\n",
    "                critic_targets[i] = rewards[i] + self.gamma * q_values[i]\n",
    "        return critic_targets\n",
    "\n",
    "    def memorize(self, state, action, reward, done, new_state):\n",
    "        self.memory.add(state, action, reward, done, new_state)\n",
    "\n",
    "    def sample_batch(self):\n",
    "        return self.buffer.sample()\n",
    "\n",
    "    def learn(self, experiences):\n",
    "        states = np.vstack([e.state for e in experiences if e is not None])\n",
    "        actions = (np.array([e.action for e in experiences if e is not None])\n",
    "                     .astype(np.float32))\n",
    "        rewards = (np.array([e.reward for e in experiences if e is not None])\n",
    "                     .astype(np.float32))\n",
    "        dones = (np.array([e.done for e in experiences if e is not None])\n",
    "                   .astype(np.uint8))\n",
    "        next_states = np.vstack([e.next_state for e in experiences if e is not None])\n",
    "        \n",
    "        q_values = self.critic.model.predict([next_states,\n",
    "                                             self.actor.model.predict(next_states)])\n",
    "\n",
    "        targets = self.bellman(rewards, q_values, dones)\n",
    "\n",
    "        self.critic.train_on_batch(states, actions, targets)\n",
    "\n",
    "        actions = self.actor.model.predict(states)\n",
    "        gradients = self.critic.action_gradients(states, actions)\n",
    "\n",
    "        self.actor.train(states, actions, gradients)"
   ]
  },
  {
   "cell_type": "code",
   "execution_count": 158,
   "metadata": {
    "Collapsed": "false"
   },
   "outputs": [
    {
     "ename": "TypeError",
     "evalue": "Error converting shape to a TensorShape: int() argument must be a string, a bytes-like object or a number, not 'tuple'.",
     "output_type": "error",
     "traceback": [
      "\u001b[0;31m-------------------------\u001b[0m",
      "\u001b[0;31mTypeError\u001b[0mTraceback (most recent call last)",
      "\u001b[0;32m~/.virtualenvs/ml/lib/python3.7/site-packages/tensorflow/python/eager/execute.py\u001b[0m in \u001b[0;36mmake_shape\u001b[0;34m(v, arg_name)\u001b[0m\n\u001b[1;32m    145\u001b[0m   \u001b[0;32mtry\u001b[0m\u001b[0;34m:\u001b[0m\u001b[0;34m\u001b[0m\u001b[0;34m\u001b[0m\u001b[0m\n\u001b[0;32m--> 146\u001b[0;31m     \u001b[0mshape\u001b[0m \u001b[0;34m=\u001b[0m \u001b[0mtensor_shape\u001b[0m\u001b[0;34m.\u001b[0m\u001b[0mas_shape\u001b[0m\u001b[0;34m(\u001b[0m\u001b[0mv\u001b[0m\u001b[0;34m)\u001b[0m\u001b[0;34m\u001b[0m\u001b[0;34m\u001b[0m\u001b[0m\n\u001b[0m\u001b[1;32m    147\u001b[0m   \u001b[0;32mexcept\u001b[0m \u001b[0mTypeError\u001b[0m \u001b[0;32mas\u001b[0m \u001b[0me\u001b[0m\u001b[0;34m:\u001b[0m\u001b[0;34m\u001b[0m\u001b[0;34m\u001b[0m\u001b[0m\n",
      "\u001b[0;32m~/.virtualenvs/ml/lib/python3.7/site-packages/tensorflow/python/framework/tensor_shape.py\u001b[0m in \u001b[0;36mas_shape\u001b[0;34m(shape)\u001b[0m\n\u001b[1;32m   1203\u001b[0m   \u001b[0;32melse\u001b[0m\u001b[0;34m:\u001b[0m\u001b[0;34m\u001b[0m\u001b[0;34m\u001b[0m\u001b[0m\n\u001b[0;32m-> 1204\u001b[0;31m     \u001b[0;32mreturn\u001b[0m \u001b[0mTensorShape\u001b[0m\u001b[0;34m(\u001b[0m\u001b[0mshape\u001b[0m\u001b[0;34m)\u001b[0m\u001b[0;34m\u001b[0m\u001b[0;34m\u001b[0m\u001b[0m\n\u001b[0m\u001b[1;32m   1205\u001b[0m \u001b[0;34m\u001b[0m\u001b[0m\n",
      "\u001b[0;32m~/.virtualenvs/ml/lib/python3.7/site-packages/tensorflow/python/framework/tensor_shape.py\u001b[0m in \u001b[0;36m__init__\u001b[0;34m(self, dims)\u001b[0m\n\u001b[1;32m    773\u001b[0m         \u001b[0;31m# Got a list of dimensions\u001b[0m\u001b[0;34m\u001b[0m\u001b[0;34m\u001b[0m\u001b[0;34m\u001b[0m\u001b[0m\n\u001b[0;32m--> 774\u001b[0;31m         \u001b[0mself\u001b[0m\u001b[0;34m.\u001b[0m\u001b[0m_dims\u001b[0m \u001b[0;34m=\u001b[0m \u001b[0;34m[\u001b[0m\u001b[0mas_dimension\u001b[0m\u001b[0;34m(\u001b[0m\u001b[0md\u001b[0m\u001b[0;34m)\u001b[0m \u001b[0;32mfor\u001b[0m \u001b[0md\u001b[0m \u001b[0;32min\u001b[0m \u001b[0mdims_iter\u001b[0m\u001b[0;34m]\u001b[0m\u001b[0;34m\u001b[0m\u001b[0;34m\u001b[0m\u001b[0m\n\u001b[0m\u001b[1;32m    775\u001b[0m \u001b[0;34m\u001b[0m\u001b[0m\n",
      "\u001b[0;32m~/.virtualenvs/ml/lib/python3.7/site-packages/tensorflow/python/framework/tensor_shape.py\u001b[0m in \u001b[0;36m<listcomp>\u001b[0;34m(.0)\u001b[0m\n\u001b[1;32m    773\u001b[0m         \u001b[0;31m# Got a list of dimensions\u001b[0m\u001b[0;34m\u001b[0m\u001b[0;34m\u001b[0m\u001b[0;34m\u001b[0m\u001b[0m\n\u001b[0;32m--> 774\u001b[0;31m         \u001b[0mself\u001b[0m\u001b[0;34m.\u001b[0m\u001b[0m_dims\u001b[0m \u001b[0;34m=\u001b[0m \u001b[0;34m[\u001b[0m\u001b[0mas_dimension\u001b[0m\u001b[0;34m(\u001b[0m\u001b[0md\u001b[0m\u001b[0;34m)\u001b[0m \u001b[0;32mfor\u001b[0m \u001b[0md\u001b[0m \u001b[0;32min\u001b[0m \u001b[0mdims_iter\u001b[0m\u001b[0;34m]\u001b[0m\u001b[0;34m\u001b[0m\u001b[0;34m\u001b[0m\u001b[0m\n\u001b[0m\u001b[1;32m    775\u001b[0m \u001b[0;34m\u001b[0m\u001b[0m\n",
      "\u001b[0;32m~/.virtualenvs/ml/lib/python3.7/site-packages/tensorflow/python/framework/tensor_shape.py\u001b[0m in \u001b[0;36mas_dimension\u001b[0;34m(value)\u001b[0m\n\u001b[1;32m    715\u001b[0m   \u001b[0;32melse\u001b[0m\u001b[0;34m:\u001b[0m\u001b[0;34m\u001b[0m\u001b[0;34m\u001b[0m\u001b[0m\n\u001b[0;32m--> 716\u001b[0;31m     \u001b[0;32mreturn\u001b[0m \u001b[0mDimension\u001b[0m\u001b[0;34m(\u001b[0m\u001b[0mvalue\u001b[0m\u001b[0;34m)\u001b[0m\u001b[0;34m\u001b[0m\u001b[0;34m\u001b[0m\u001b[0m\n\u001b[0m\u001b[1;32m    717\u001b[0m \u001b[0;34m\u001b[0m\u001b[0m\n",
      "\u001b[0;32m~/.virtualenvs/ml/lib/python3.7/site-packages/tensorflow/python/framework/tensor_shape.py\u001b[0m in \u001b[0;36m__init__\u001b[0;34m(self, value)\u001b[0m\n\u001b[1;32m    184\u001b[0m     \u001b[0;32melse\u001b[0m\u001b[0;34m:\u001b[0m\u001b[0;34m\u001b[0m\u001b[0;34m\u001b[0m\u001b[0m\n\u001b[0;32m--> 185\u001b[0;31m       \u001b[0mself\u001b[0m\u001b[0;34m.\u001b[0m\u001b[0m_value\u001b[0m \u001b[0;34m=\u001b[0m \u001b[0mint\u001b[0m\u001b[0;34m(\u001b[0m\u001b[0mvalue\u001b[0m\u001b[0;34m)\u001b[0m\u001b[0;34m\u001b[0m\u001b[0;34m\u001b[0m\u001b[0m\n\u001b[0m\u001b[1;32m    186\u001b[0m       if (not isinstance(value, compat.bytes_or_text_types) and\n",
      "\u001b[0;31mTypeError\u001b[0m: int() argument must be a string, a bytes-like object or a number, not 'tuple'",
      "\nDuring handling of the above exception, another exception occurred:\n",
      "\u001b[0;31mTypeError\u001b[0mTraceback (most recent call last)",
      "\u001b[0;32m<ipython-input-158-0bfa9967d592>\u001b[0m in \u001b[0;36m<module>\u001b[0;34m\u001b[0m\n\u001b[1;32m      1\u001b[0m \u001b[0mnum_episodes\u001b[0m \u001b[0;34m=\u001b[0m \u001b[0;36m1000\u001b[0m\u001b[0;34m\u001b[0m\u001b[0;34m\u001b[0m\u001b[0m\n\u001b[1;32m      2\u001b[0m \u001b[0;34m\u001b[0m\u001b[0m\n\u001b[0;32m----> 3\u001b[0;31m \u001b[0magent\u001b[0m \u001b[0;34m=\u001b[0m \u001b[0mDDPG\u001b[0m\u001b[0;34m(\u001b[0m\u001b[0menv\u001b[0m\u001b[0;34m)\u001b[0m\u001b[0;34m\u001b[0m\u001b[0;34m\u001b[0m\u001b[0m\n\u001b[0m\u001b[1;32m      4\u001b[0m \u001b[0;34m\u001b[0m\u001b[0m\n\u001b[1;32m      5\u001b[0m \u001b[0mbest_score\u001b[0m \u001b[0;34m=\u001b[0m \u001b[0;34m-\u001b[0m\u001b[0mnp\u001b[0m\u001b[0;34m.\u001b[0m\u001b[0minf\u001b[0m\u001b[0;34m\u001b[0m\u001b[0;34m\u001b[0m\u001b[0m\n",
      "\u001b[0;32m<ipython-input-157-0226a91a6eec>\u001b[0m in \u001b[0;36m__init__\u001b[0;34m(self, env, buffer_size, gamma, lr, tau)\u001b[0m\n\u001b[1;32m     18\u001b[0m         \u001b[0mself\u001b[0m\u001b[0;34m.\u001b[0m\u001b[0mlr\u001b[0m \u001b[0;34m=\u001b[0m \u001b[0mlr\u001b[0m\u001b[0;34m\u001b[0m\u001b[0;34m\u001b[0m\u001b[0m\n\u001b[1;32m     19\u001b[0m         \u001b[0;31m# Create actor and critic networks\u001b[0m\u001b[0;34m\u001b[0m\u001b[0;34m\u001b[0m\u001b[0;34m\u001b[0m\u001b[0m\n\u001b[0;32m---> 20\u001b[0;31m         \u001b[0mself\u001b[0m\u001b[0;34m.\u001b[0m\u001b[0mactor\u001b[0m \u001b[0;34m=\u001b[0m \u001b[0mActor\u001b[0m\u001b[0;34m(\u001b[0m\u001b[0menv\u001b[0m\u001b[0;34m,\u001b[0m \u001b[0;36m0.1\u001b[0m \u001b[0;34m*\u001b[0m \u001b[0mlr\u001b[0m\u001b[0;34m)\u001b[0m\u001b[0;34m\u001b[0m\u001b[0;34m\u001b[0m\u001b[0m\n\u001b[0m\u001b[1;32m     21\u001b[0m         \u001b[0mself\u001b[0m\u001b[0;34m.\u001b[0m\u001b[0mcritic\u001b[0m \u001b[0;34m=\u001b[0m \u001b[0mCritic\u001b[0m\u001b[0;34m(\u001b[0m\u001b[0menv\u001b[0m\u001b[0;34m,\u001b[0m \u001b[0mlr\u001b[0m\u001b[0;34m)\u001b[0m\u001b[0;34m\u001b[0m\u001b[0;34m\u001b[0m\u001b[0m\n\u001b[1;32m     22\u001b[0m \u001b[0;34m\u001b[0m\u001b[0m\n",
      "\u001b[0;32m<ipython-input-155-d9003bd5228d>\u001b[0m in \u001b[0;36m__init__\u001b[0;34m(self, env, lr)\u001b[0m\n\u001b[1;32m     27\u001b[0m         \u001b[0mself\u001b[0m\u001b[0;34m.\u001b[0m\u001b[0mlr\u001b[0m \u001b[0;34m=\u001b[0m \u001b[0mlr\u001b[0m\u001b[0;34m\u001b[0m\u001b[0;34m\u001b[0m\u001b[0m\n\u001b[1;32m     28\u001b[0m \u001b[0;34m\u001b[0m\u001b[0m\n\u001b[0;32m---> 29\u001b[0;31m         \u001b[0mself\u001b[0m\u001b[0;34m.\u001b[0m\u001b[0madam_optimizer\u001b[0m \u001b[0;34m=\u001b[0m \u001b[0mself\u001b[0m\u001b[0;34m.\u001b[0m\u001b[0moptimizer\u001b[0m\u001b[0;34m(\u001b[0m\u001b[0;34m)\u001b[0m\u001b[0;34m\u001b[0m\u001b[0;34m\u001b[0m\u001b[0m\n\u001b[0m\u001b[1;32m     30\u001b[0m \u001b[0;34m\u001b[0m\u001b[0m\n\u001b[1;32m     31\u001b[0m         \u001b[0mself\u001b[0m\u001b[0;34m.\u001b[0m\u001b[0mbuild_model\u001b[0m\u001b[0;34m(\u001b[0m\u001b[0;34m)\u001b[0m\u001b[0;34m\u001b[0m\u001b[0;34m\u001b[0m\u001b[0m\n",
      "\u001b[0;32m<ipython-input-155-d9003bd5228d>\u001b[0m in \u001b[0;36moptimizer\u001b[0;34m(self)\u001b[0m\n\u001b[1;32m     63\u001b[0m \u001b[0;34m\u001b[0m\u001b[0m\n\u001b[1;32m     64\u001b[0m     \u001b[0;32mdef\u001b[0m \u001b[0moptimizer\u001b[0m\u001b[0;34m(\u001b[0m\u001b[0mself\u001b[0m\u001b[0;34m)\u001b[0m\u001b[0;34m:\u001b[0m\u001b[0;34m\u001b[0m\u001b[0;34m\u001b[0m\u001b[0m\n\u001b[0;32m---> 65\u001b[0;31m         \u001b[0maction_gdts\u001b[0m \u001b[0;34m=\u001b[0m \u001b[0mK\u001b[0m\u001b[0;34m.\u001b[0m\u001b[0mplaceholder\u001b[0m\u001b[0;34m(\u001b[0m\u001b[0mshape\u001b[0m\u001b[0;34m=\u001b[0m\u001b[0;34m(\u001b[0m\u001b[0;32mNone\u001b[0m\u001b[0;34m,\u001b[0m \u001b[0mself\u001b[0m\u001b[0;34m.\u001b[0m\u001b[0maction_size\u001b[0m\u001b[0;34m)\u001b[0m\u001b[0;34m)\u001b[0m\u001b[0;34m\u001b[0m\u001b[0;34m\u001b[0m\u001b[0m\n\u001b[0m\u001b[1;32m     66\u001b[0m         params_grad = tf.gradients(self.model.output,\n\u001b[1;32m     67\u001b[0m                                    \u001b[0mself\u001b[0m\u001b[0;34m.\u001b[0m\u001b[0mmodel\u001b[0m\u001b[0;34m.\u001b[0m\u001b[0mtrainable_weights\u001b[0m\u001b[0;34m,\u001b[0m\u001b[0;34m\u001b[0m\u001b[0;34m\u001b[0m\u001b[0m\n",
      "\u001b[0;32m~/.virtualenvs/ml/lib/python3.7/site-packages/keras/backend/tensorflow_backend.py\u001b[0m in \u001b[0;36mplaceholder\u001b[0;34m(shape, ndim, dtype, sparse, name)\u001b[0m\n\u001b[1;32m    539\u001b[0m         \u001b[0mx\u001b[0m \u001b[0;34m=\u001b[0m \u001b[0mtf\u001b[0m\u001b[0;34m.\u001b[0m\u001b[0msparse_placeholder\u001b[0m\u001b[0;34m(\u001b[0m\u001b[0mdtype\u001b[0m\u001b[0;34m,\u001b[0m \u001b[0mshape\u001b[0m\u001b[0;34m=\u001b[0m\u001b[0mshape\u001b[0m\u001b[0;34m,\u001b[0m \u001b[0mname\u001b[0m\u001b[0;34m=\u001b[0m\u001b[0mname\u001b[0m\u001b[0;34m)\u001b[0m\u001b[0;34m\u001b[0m\u001b[0;34m\u001b[0m\u001b[0m\n\u001b[1;32m    540\u001b[0m     \u001b[0;32melse\u001b[0m\u001b[0;34m:\u001b[0m\u001b[0;34m\u001b[0m\u001b[0;34m\u001b[0m\u001b[0m\n\u001b[0;32m--> 541\u001b[0;31m         \u001b[0mx\u001b[0m \u001b[0;34m=\u001b[0m \u001b[0mtf\u001b[0m\u001b[0;34m.\u001b[0m\u001b[0mplaceholder\u001b[0m\u001b[0;34m(\u001b[0m\u001b[0mdtype\u001b[0m\u001b[0;34m,\u001b[0m \u001b[0mshape\u001b[0m\u001b[0;34m=\u001b[0m\u001b[0mshape\u001b[0m\u001b[0;34m,\u001b[0m \u001b[0mname\u001b[0m\u001b[0;34m=\u001b[0m\u001b[0mname\u001b[0m\u001b[0;34m)\u001b[0m\u001b[0;34m\u001b[0m\u001b[0;34m\u001b[0m\u001b[0m\n\u001b[0m\u001b[1;32m    542\u001b[0m     \u001b[0mx\u001b[0m\u001b[0;34m.\u001b[0m\u001b[0m_keras_shape\u001b[0m \u001b[0;34m=\u001b[0m \u001b[0mshape\u001b[0m\u001b[0;34m\u001b[0m\u001b[0;34m\u001b[0m\u001b[0m\n\u001b[1;32m    543\u001b[0m     \u001b[0mx\u001b[0m\u001b[0;34m.\u001b[0m\u001b[0m_uses_learning_phase\u001b[0m \u001b[0;34m=\u001b[0m \u001b[0;32mFalse\u001b[0m\u001b[0;34m\u001b[0m\u001b[0;34m\u001b[0m\u001b[0m\n",
      "\u001b[0;32m~/.virtualenvs/ml/lib/python3.7/site-packages/tensorflow/python/ops/array_ops.py\u001b[0m in \u001b[0;36mplaceholder\u001b[0;34m(dtype, shape, name)\u001b[0m\n\u001b[1;32m   2141\u001b[0m                        \"eager execution.\")\n\u001b[1;32m   2142\u001b[0m \u001b[0;34m\u001b[0m\u001b[0m\n\u001b[0;32m-> 2143\u001b[0;31m   \u001b[0;32mreturn\u001b[0m \u001b[0mgen_array_ops\u001b[0m\u001b[0;34m.\u001b[0m\u001b[0mplaceholder\u001b[0m\u001b[0;34m(\u001b[0m\u001b[0mdtype\u001b[0m\u001b[0;34m=\u001b[0m\u001b[0mdtype\u001b[0m\u001b[0;34m,\u001b[0m \u001b[0mshape\u001b[0m\u001b[0;34m=\u001b[0m\u001b[0mshape\u001b[0m\u001b[0;34m,\u001b[0m \u001b[0mname\u001b[0m\u001b[0;34m=\u001b[0m\u001b[0mname\u001b[0m\u001b[0;34m)\u001b[0m\u001b[0;34m\u001b[0m\u001b[0;34m\u001b[0m\u001b[0m\n\u001b[0m\u001b[1;32m   2144\u001b[0m \u001b[0;34m\u001b[0m\u001b[0m\n\u001b[1;32m   2145\u001b[0m \u001b[0;34m\u001b[0m\u001b[0m\n",
      "\u001b[0;32m~/.virtualenvs/ml/lib/python3.7/site-packages/tensorflow/python/ops/gen_array_ops.py\u001b[0m in \u001b[0;36mplaceholder\u001b[0;34m(dtype, shape, name)\u001b[0m\n\u001b[1;32m   6258\u001b[0m   \u001b[0;32mif\u001b[0m \u001b[0mshape\u001b[0m \u001b[0;32mis\u001b[0m \u001b[0;32mNone\u001b[0m\u001b[0;34m:\u001b[0m\u001b[0;34m\u001b[0m\u001b[0;34m\u001b[0m\u001b[0m\n\u001b[1;32m   6259\u001b[0m     \u001b[0mshape\u001b[0m \u001b[0;34m=\u001b[0m \u001b[0;32mNone\u001b[0m\u001b[0;34m\u001b[0m\u001b[0;34m\u001b[0m\u001b[0m\n\u001b[0;32m-> 6260\u001b[0;31m   \u001b[0mshape\u001b[0m \u001b[0;34m=\u001b[0m \u001b[0m_execute\u001b[0m\u001b[0;34m.\u001b[0m\u001b[0mmake_shape\u001b[0m\u001b[0;34m(\u001b[0m\u001b[0mshape\u001b[0m\u001b[0;34m,\u001b[0m \u001b[0;34m\"shape\"\u001b[0m\u001b[0;34m)\u001b[0m\u001b[0;34m\u001b[0m\u001b[0;34m\u001b[0m\u001b[0m\n\u001b[0m\u001b[1;32m   6261\u001b[0m   _, _, _op = _op_def_lib._apply_op_helper(\n\u001b[1;32m   6262\u001b[0m         \"Placeholder\", dtype=dtype, shape=shape, name=name)\n",
      "\u001b[0;32m~/.virtualenvs/ml/lib/python3.7/site-packages/tensorflow/python/eager/execute.py\u001b[0m in \u001b[0;36mmake_shape\u001b[0;34m(v, arg_name)\u001b[0m\n\u001b[1;32m    146\u001b[0m     \u001b[0mshape\u001b[0m \u001b[0;34m=\u001b[0m \u001b[0mtensor_shape\u001b[0m\u001b[0;34m.\u001b[0m\u001b[0mas_shape\u001b[0m\u001b[0;34m(\u001b[0m\u001b[0mv\u001b[0m\u001b[0;34m)\u001b[0m\u001b[0;34m\u001b[0m\u001b[0;34m\u001b[0m\u001b[0m\n\u001b[1;32m    147\u001b[0m   \u001b[0;32mexcept\u001b[0m \u001b[0mTypeError\u001b[0m \u001b[0;32mas\u001b[0m \u001b[0me\u001b[0m\u001b[0;34m:\u001b[0m\u001b[0;34m\u001b[0m\u001b[0;34m\u001b[0m\u001b[0m\n\u001b[0;32m--> 148\u001b[0;31m     \u001b[0;32mraise\u001b[0m \u001b[0mTypeError\u001b[0m\u001b[0;34m(\u001b[0m\u001b[0;34m\"Error converting %s to a TensorShape: %s.\"\u001b[0m \u001b[0;34m%\u001b[0m \u001b[0;34m(\u001b[0m\u001b[0marg_name\u001b[0m\u001b[0;34m,\u001b[0m \u001b[0me\u001b[0m\u001b[0;34m)\u001b[0m\u001b[0;34m)\u001b[0m\u001b[0;34m\u001b[0m\u001b[0;34m\u001b[0m\u001b[0m\n\u001b[0m\u001b[1;32m    149\u001b[0m   \u001b[0;32mexcept\u001b[0m \u001b[0mValueError\u001b[0m \u001b[0;32mas\u001b[0m \u001b[0me\u001b[0m\u001b[0;34m:\u001b[0m\u001b[0;34m\u001b[0m\u001b[0;34m\u001b[0m\u001b[0m\n\u001b[1;32m    150\u001b[0m     raise ValueError(\"Error converting %s to a TensorShape: %s.\" % (arg_name,\n",
      "\u001b[0;31mTypeError\u001b[0m: Error converting shape to a TensorShape: int() argument must be a string, a bytes-like object or a number, not 'tuple'."
     ]
    }
   ],
   "source": [
    "num_episodes = 1000\n",
    "\n",
    "agent = DDPG(env)\n",
    "\n",
    "best_score = -np.inf\n",
    "\n",
    "avg_scores = deque(maxlen=num_episodes)\n",
    "\n",
    "score_eval = ScoreEvaluator(1)\n",
    "\n",
    "for i in range(num_episodes):  \n",
    "    score = 0\n",
    "    state = env.reset()\n",
    "#     agent.reset_episode()\n",
    "    \n",
    "    while True:\n",
    "        action = agent.act(state)\n",
    "        state, reward, done, _ = env.step(action)\n",
    "        \n",
    "#         agent.step(state, reward, done)\n",
    "        agent.step(action, reward, state, done)\n",
    "        \n",
    "        score += reward\n",
    "        if done:\n",
    "            score_eval.add(score)\n",
    "            print_iteaction(i, score_eval)\n",
    "            break\n",
    "            \n",
    "score_eval.plot_avg_scores()"
   ]
  },
  {
   "cell_type": "markdown",
   "metadata": {
    "Collapsed": "false"
   },
   "source": [
    "### Training"
   ]
  },
  {
   "cell_type": "code",
   "execution_count": 149,
   "metadata": {
    "Collapsed": "false"
   },
   "outputs": [],
   "source": [
    "state = env.reset()\n",
    "\n",
    "for i in range(3):\n",
    "    state = env.reset()\n",
    "    while True:\n",
    "        env.render()\n",
    "        action = agent.act(state)\n",
    "        state, reward, done, _ = env.step(action)\n",
    "        if done:\n",
    "            break\n",
    "        \n",
    "env.close()"
   ]
  }
 ],
 "metadata": {
  "kernelspec": {
   "display_name": "Python 3 [GPU]",
   "language": "python",
   "name": "python3-gpu"
  },
  "language_info": {
   "codemirror_mode": {
    "name": "ipython",
    "version": 3
   },
   "file_extension": ".py",
   "mimetype": "text/x-python",
   "name": "python",
   "nbconvert_exporter": "python",
   "pygments_lexer": "ipython3",
   "version": "3.7.4"
  },
  "toc": {
   "base_numbering": 1,
   "nav_menu": {},
   "number_sections": true,
   "sideBar": true,
   "skip_h1_title": false,
   "title_cell": "Table of Contents",
   "title_sidebar": "Contents",
   "toc_cell": false,
   "toc_position": {},
   "toc_section_display": true,
   "toc_window_display": false
  }
 },
 "nbformat": 4,
 "nbformat_minor": 4
}
