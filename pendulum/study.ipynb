{
 "cells": [
  {
   "cell_type": "code",
   "execution_count": 1,
   "metadata": {
    "Collapsed": "false"
   },
   "outputs": [],
   "source": [
    "import gym\n",
    "import numpy as np\n",
    "\n",
    "from tqdm import trange\n",
    "\n",
    "env = gym.make('Pendulum-v0')"
   ]
  },
  {
   "cell_type": "markdown",
   "metadata": {
    "Collapsed": "false"
   },
   "source": [
    "The pendulum challenge is to keep a \n",
    "frictionless pendulum standing up"
   ]
  },
  {
   "cell_type": "markdown",
   "metadata": {
    "Collapsed": "false",
    "toc-hr-collapsed": true
   },
   "source": [
    "# The Pendulum"
   ]
  },
  {
   "cell_type": "markdown",
   "metadata": {
    "Collapsed": "false"
   },
   "source": [
    "## States"
   ]
  },
  {
   "cell_type": "markdown",
   "metadata": {
    "Collapsed": "false"
   },
   "source": [
    "| Num | Observation |\n",
    "|:-:|:-:|\n",
    "| 0 | cos(theta) |\n",
    "| 1 | sin(theta) |\n",
    "| 2 | theta dot |\n"
   ]
  },
  {
   "cell_type": "markdown",
   "metadata": {
    "Collapsed": "false"
   },
   "source": [
    "<style>\n",
    "td {\n",
    "  font-size: 100px\n",
    "}\n",
    "    \n",
    "    \n",
    "</style>\n"
   ]
  },
  {
   "cell_type": "code",
   "execution_count": 2,
   "metadata": {
    "Collapsed": "false"
   },
   "outputs": [
    {
     "name": "stdout",
     "output_type": "stream",
     "text": [
      "The shape of the state space: (3,)\n",
      "Highest value: [1. 1. 8.]\n",
      "Lowest value: [-1. -1. -8.]\n",
      "A sample state: [-0.63143784 -0.12778072  3.5764918 ]\n"
     ]
    }
   ],
   "source": [
    "print(f\"The shape of the state space: {env.observation_space.shape}\")\n",
    "print(f\"Highest value: {env.observation_space.high}\")\n",
    "print(f\"Lowest value: {env.observation_space.low}\")\n",
    "\n",
    "env.observation_space\n",
    "\n",
    "print(f\"A sample state: {env.observation_space.sample()}\")"
   ]
  },
  {
   "cell_type": "markdown",
   "metadata": {
    "Collapsed": "false"
   },
   "source": [
    "## Actions"
   ]
  },
  {
   "cell_type": "markdown",
   "metadata": {
    "Collapsed": "false"
   },
   "source": [
    "| Num | Action |\n",
    "|:-:|:-:|\n",
    "| 0 | Joint effort |"
   ]
  },
  {
   "cell_type": "code",
   "execution_count": 3,
   "metadata": {
    "Collapsed": "false"
   },
   "outputs": [
    {
     "name": "stdout",
     "output_type": "stream",
     "text": [
      "The shape of the action space: (1,)\n",
      "Highest value: [2.]\n",
      "Lowest value: [-2.]\n",
      "A sample action: [-0.8608973]\n"
     ]
    }
   ],
   "source": [
    "print(f\"The shape of the action space: {env.action_space.shape}\")\n",
    "print(f\"Highest value: {env.action_space.high}\")\n",
    "print(f\"Lowest value: {env.action_space.low}\")\n",
    "\n",
    "env.action_space.seed(473)\n",
    "\n",
    "print(f\"A sample action: {env.action_space.sample()}\")"
   ]
  },
  {
   "cell_type": "code",
   "execution_count": 4,
   "metadata": {
    "Collapsed": "false"
   },
   "outputs": [
    {
     "data": {
      "text/plain": [
       "array([1.8785995], dtype=float32)"
      ]
     },
     "execution_count": 4,
     "metadata": {},
     "output_type": "execute_result"
    }
   ],
   "source": [
    "env.action_space.sample()"
   ]
  },
  {
   "cell_type": "markdown",
   "metadata": {
    "Collapsed": "false"
   },
   "source": [
    "## Reward"
   ]
  },
  {
   "cell_type": "markdown",
   "metadata": {
    "Collapsed": "false"
   },
   "source": [
    "Function: $-(theta^2 + 0.1*thetaDot^2 + 0.001*action^2)$"
   ]
  },
  {
   "cell_type": "markdown",
   "metadata": {
    "Collapsed": "false"
   },
   "source": [
    "# The Agent"
   ]
  },
  {
   "cell_type": "code",
   "execution_count": 5,
   "metadata": {
    "Collapsed": "false"
   },
   "outputs": [],
   "source": [
    "import sys\n",
    "import numpy as np\n",
    "import pandas as pd\n",
    "from collections import deque\n",
    "\n",
    "import matplotlib.pyplot as plt\n",
    "%matplotlib inline"
   ]
  },
  {
   "cell_type": "markdown",
   "metadata": {
    "Collapsed": "true"
   },
   "source": [
    "### Utils"
   ]
  },
  {
   "cell_type": "code",
   "execution_count": 6,
   "metadata": {
    "Collapsed": "false"
   },
   "outputs": [],
   "source": [
    "# Utils\n",
    "class ScoreEvaluator:\n",
    "    def __init__(self, window: int):\n",
    "        self.window = window\n",
    "        self.best_score = -np.inf\n",
    "        self.avg_scores = []\n",
    "        self.tmp_scores = deque(maxlen=window)\n",
    "        self.last_score = None\n",
    "        \n",
    "    def add(self, score: float):\n",
    "        if not score:\n",
    "            raise ValueError(f'Score could not be {score}')\n",
    "         \n",
    "        self.tmp_scores.append(score)\n",
    "        \n",
    "        if score > self.best_score:\n",
    "            self.best_score = score\n",
    "        \n",
    "        self._update_avg()\n",
    "        self.last_score = score\n",
    "        \n",
    "    def plot_avg_scores(self):\n",
    "        plt.plot(np.linspace(0,\n",
    "                             len(self.avg_scores),\n",
    "                             len(self.avg_scores),\n",
    "                             endpoint=False),\n",
    "                 np.asarray(self.avg_scores))\n",
    "        plt.title(f'Best Reward: {self.best_score:10.5f}')\n",
    "        plt.xlabel('Episode Number')\n",
    "        plt.ylabel(f'Average Actions made (Over Next {self.window} Episodes)')\n",
    "        rolling_mean = (pd.Series(self.avg_scores)\n",
    "                          .rolling(199)\n",
    "                          .mean())\n",
    "        plt.plot(rolling_mean);\n",
    "        \n",
    "        plt.show()\n",
    "        \n",
    "    def _update_avg(self):\n",
    "        if len(self.tmp_scores) < self.tmp_scores.maxlen:\n",
    "            return\n",
    "        self.avg_scores.append(np.mean(self.tmp_scores))\n",
    "        \n",
    "def print_iteaction(iteraction: int, score_eval: ScoreEvaluator):\n",
    "    \"function responsible to print some infos each iteration\"\n",
    "    print(\"{:4d} - Best Score: {:5.2f} - {:5.2f}\".format(iteraction,\n",
    "                                                         score_eval.best_score,\n",
    "                                                         score_eval.last_score),\n",
    "          end=\"\\r\",\n",
    "          flush=True)"
   ]
  },
  {
   "cell_type": "markdown",
   "metadata": {
    "Collapsed": "true"
   },
   "source": [
    "### Dummy Agent"
   ]
  },
  {
   "cell_type": "code",
   "execution_count": 7,
   "metadata": {
    "Collapsed": "false"
   },
   "outputs": [],
   "source": [
    "class DummyAgent:\n",
    "    def __init__(self):\n",
    "        pass\n",
    "    \n",
    "    def act(self, state):\n",
    "        return [np.random.normal(0., .8)]\n"
   ]
  },
  {
   "cell_type": "markdown",
   "metadata": {
    "Collapsed": "true"
   },
   "source": [
    "### Policy-based Agent"
   ]
  },
  {
   "cell_type": "code",
   "execution_count": 8,
   "metadata": {
    "Collapsed": "false"
   },
   "outputs": [],
   "source": [
    "import scipy.stats\n",
    "\n",
    "class PolicyAgent():\n",
    "    def __init__(self, env):\n",
    "        # Task (environment) information\n",
    "        self.env = env\n",
    "        \n",
    "        self.state_size = env.observation_space.shape[0]\n",
    "        self.action_size = env.action_space.shape[0]\n",
    "        \n",
    "        self.action_high = env.action_space.high\n",
    "        self.action_low = env.action_space.low\n",
    "        self.action_range = self.action_high - self.action_low\n",
    "\n",
    "        self.w = np.random.normal(\n",
    "            size=(self.state_size, self.action_size),\n",
    "            scale=(self.action_range / 10))\n",
    "\n",
    "        self.best_w1 = None\n",
    "        \n",
    "        self.best_score = -np.inf\n",
    "        \n",
    "        self.noise = 1\n",
    "        \n",
    "        self.alpha = 1e-10\n",
    "\n",
    "        self.reset_episode()\n",
    "        \n",
    "        self.find_better = 1\n",
    "        \n",
    "        self.std = self.action_range / 1000\n",
    "        \n",
    "        \n",
    "\n",
    "    def reset_episode(self):\n",
    "        self.total_reward = 0.0\n",
    "\n",
    "    def step(self, next_state, reward, done, action):\n",
    "        self.total_reward += reward\n",
    "\n",
    "        self.learn(action, reward)\n",
    "#         if done:\n",
    "#             self.learn(action)\n",
    "\n",
    "    def act(self, state):\n",
    "        mean = np.dot(state, self.w)\n",
    "\n",
    "        self.last_state = state\n",
    "\n",
    "        return np.random.normal(mean, scale=self.std)\n",
    "    \n",
    "    def learn(self, action, reward):\n",
    "        grad = self._gradiant(action, np.array([self.last_state]))\n",
    "        delta = self.alpha * grad * reward\n",
    "        self.w += delta.T\n",
    "    \n",
    "    def learn_in_the_end(self, action):\n",
    "        grad = self._gradiant(action, np.array([self.last_state]))\n",
    "        delta = self.alpha * grad * self.total_reward\n",
    "\n",
    "        self.w -= delta.T\n",
    "        \n",
    "    def _gradiant(self, action, state):\n",
    "        # -1 / (5*std³)\n",
    "        cal = (-1 / (5 * self.std ** 3)) * (2*action*state - 2*state)\n",
    "        return cal\n"
   ]
  },
  {
   "cell_type": "markdown",
   "metadata": {
    "Collapsed": "false"
   },
   "source": [
    "### Buffer"
   ]
  },
  {
   "cell_type": "code",
   "execution_count": 9,
   "metadata": {
    "Collapsed": "false"
   },
   "outputs": [],
   "source": [
    "import random\n",
    "from collections import namedtuple, deque\n",
    "from itertools import count\n",
    "from uuid import uuid1\n",
    "\n",
    "class Buffer:\n",
    "    \"\"\"Fixed-size buffer to store experience tuples.\"\"\"\n",
    "\n",
    "    def __init__(self, buffer_size, batch_size):\n",
    "        \"\"\"Initialize a ReplayBuffer object.\n",
    "        Params\n",
    "        ======\n",
    "            buffer_size: maximum size of buffer\n",
    "            batch_size: size of each training batch\n",
    "        \"\"\"\n",
    "        self.memory = deque(maxlen=buffer_size)\n",
    "        self.batch_size = batch_size\n",
    "        self.experience = namedtuple(\"Experience\",\n",
    "                                     field_names=[\"session\",\n",
    "                                                  \"id\",\n",
    "                                                  \"state\",\n",
    "                                                  \"action\",\n",
    "                                                  \"reward\",\n",
    "                                                  \"next_state\",\n",
    "                                                  \"done\"])\n",
    "\n",
    "    def add(self, session, id, state, action, reward,\n",
    "            next_state, done):\n",
    "        \"\"\"Add a new experience to memory.\"\"\"\n",
    "        e = self.experience(session,\n",
    "                            id,\n",
    "                            state,\n",
    "                            action,\n",
    "                            reward,\n",
    "                            next_state,\n",
    "                            done)\n",
    "        self.memory.append(e)\n",
    "        \n",
    "    def change_reward(self, position, reward):\n",
    "        exp_temp = list(self.memory[position])\n",
    "        exp_temp[4] = reward\n",
    "        self.memory[position] = self.experience(*exp_temp)\n",
    "    \n",
    "    def clear(self):\n",
    "        self.memory.clear()\n",
    "\n",
    "    def sample(self):\n",
    "        \"\"\"Randomly sample a batch of experiences from memory.\"\"\"\n",
    "        return random.sample(self.memory, k=self.batch_size)\n",
    "\n",
    "    def __len__(self):\n",
    "        \"\"\"Return the current size of internal memory.\"\"\"\n",
    "        return len(self.memory)\n",
    "    \n",
    "    \n",
    "# testing change_reward\n",
    "x = Buffer(2,2)\n",
    "x.add(1,2,3,4,5,6,7)\n",
    "x.change_reward(0, 377)\n",
    "assert x.memory[0].reward == 377"
   ]
  },
  {
   "cell_type": "markdown",
   "metadata": {
    "Collapsed": "true"
   },
   "source": [
    "### Reinforce Algorithm"
   ]
  },
  {
   "cell_type": "code",
   "execution_count": 10,
   "metadata": {
    "Collapsed": "false"
   },
   "outputs": [],
   "source": [
    "class ReinforceAgent():\n",
    "    def __init__(self, env):\n",
    "        # Task (environment) information\n",
    "        self.env = env\n",
    "        \n",
    "        self.state_size = env.observation_space.shape[0]\n",
    "        self.action_size = env.action_space.shape[0]\n",
    "        \n",
    "        self.action_high = env.action_space.high\n",
    "        self.action_low = env.action_space.low\n",
    "        self.action_range = self.action_high - self.action_low\n",
    "\n",
    "        self.w = np.random.normal(\n",
    "            size=(self.state_size, self.action_size),\n",
    "            scale=(self.action_range) / 10)\n",
    "        \n",
    "        self.w2 = np.random.normal(\n",
    "            size=(self.state_size, self.action_size),\n",
    "            scale=(self.action_range) / 10)\n",
    "        \n",
    "        self.alpha = 1e-10\n",
    "   \n",
    "        self.find_better = 1\n",
    "        \n",
    "        self.std = self.action_range / 10\n",
    "        \n",
    "        self.buffer = Buffer(512, 32)\n",
    "\n",
    "        self.reset_episode()\n",
    "\n",
    "    def reset_episode(self):\n",
    "        self.cumulative_reward = 0.0\n",
    "        self.buffer.clear()\n",
    "\n",
    "    def act(self, state):\n",
    "        mean = self._mean(state)\n",
    "        std = self._std(state)\n",
    "        action = np.random.normal(mean, scale=std)\n",
    "    \n",
    "        self.last_state = state\n",
    "        self.last_action = action\n",
    "        \n",
    "        return mean\n",
    "    \n",
    "    \n",
    "    def step(self, next_state, reward, done):        \n",
    "        self.buffer.add(self.last_state,\n",
    "                        self.last_action,\n",
    "                        reward,\n",
    "                        next_state,\n",
    "                        done,\n",
    "                        self.cumulative_reward)\n",
    "        \n",
    "        self.cumulative_reward += reward\n",
    "\n",
    "        if done:\n",
    "            self.learn()\n",
    "\n",
    "    def learn(self):\n",
    "        for (state, action, reward, next_state,\n",
    "             done, cumulative_reward) in self.buffer.memory:\n",
    "            grad = self._gradiant(state, action).T\n",
    "            \n",
    "            self.w += (self.alpha\n",
    "                       * grad\n",
    "                       * reward)\n",
    "            \n",
    "        for (state, action, reward, next_state,\n",
    "             done, cumulative_reward) in self.buffer.sample():\n",
    "            grad = self._gradiant(state, action).T          \n",
    "\n",
    "            self.w += (self.alpha\n",
    "                       * grad\n",
    "                       * (self.cumulative_reward\n",
    "                          - cumulative_reward))   \n",
    "        \n",
    "    def _mean(self, s):\n",
    "        return np.dot(s, self.w)\n",
    "    \n",
    "    def _std(self, s):\n",
    "        return np.dot(s, self.w2)\n",
    "    \n",
    "    def _gradiant(self, s, action):\n",
    "        mean = self._mean(s)       \n",
    "        \n",
    "        cal = (s / (self.std ** 2)) * (action - mean)\n",
    "        return np.array([cal])"
   ]
  },
  {
   "cell_type": "markdown",
   "metadata": {
    "Collapsed": "false"
   },
   "source": [
    "### Reinforce Algorithm std and Mean variation"
   ]
  },
  {
   "cell_type": "code",
   "execution_count": 14,
   "metadata": {
    "Collapsed": "false"
   },
   "outputs": [],
   "source": [
    "class ReinforceAgentAdvanced():\n",
    "    def __init__(self, env):\n",
    "        # Task (environment) information\n",
    "        self.env = env\n",
    "        \n",
    "        self.state_size = env.observation_space.shape[0] * 3\n",
    "        self.action_size = env.action_space.shape[0]\n",
    "        \n",
    "        self.action_high = env.action_space.high\n",
    "        self.action_low = env.action_space.low\n",
    "        self.action_range = self.action_high - self.action_low\n",
    "\n",
    "        self.w = np.random.normal(\n",
    "            size=(self.state_size, self.action_size),\n",
    "            scale=(self.action_range) / 4)\n",
    "        \n",
    "        self.w2 = abs(np.random.normal(\n",
    "            size=(self.state_size, self.action_size),\n",
    "            scale=(self.action_range) / 4))\n",
    "        \n",
    "        self.alpha = 1e-2\n",
    "        self.gamma = 0.99\n",
    "   \n",
    "        self.find_better = 1\n",
    "        \n",
    "        self.all_rewards = []\n",
    "        \n",
    "        self.buffer = Buffer(512, 192)\n",
    "\n",
    "        self.reset_episode()\n",
    "\n",
    "    def reset_episode(self):\n",
    "        self.buffer.clear()\n",
    "        self.all_rewards.clear()\n",
    "        self.current_id = 0\n",
    "        self.session = uuid1().hex\n",
    "\n",
    "    def act(self, state):\n",
    "        mean = self._mean(state)\n",
    "        std = self._std(state)\n",
    "        action = np.random.normal(mean, scale=std)\n",
    "    \n",
    "        self.last_state = state\n",
    "        self.last_action = action\n",
    "        \n",
    "        return mean\n",
    "    \n",
    "    def step(self, next_state, reward, done):\n",
    "        self.buffer.add(self.session,\n",
    "                        self.current_id,\n",
    "                        self.last_state,\n",
    "                        self.last_action,\n",
    "                        reward,\n",
    "                        next_state,\n",
    "                        done)\n",
    "        \n",
    "        self.current_id += 1\n",
    "        self.all_rewards.append(reward)\n",
    "\n",
    "        if done:\n",
    "            self.learn()\n",
    "            \n",
    "    def learn(self):        \n",
    "        mean_discount_reward = np.mean(self.all_rewards)\n",
    "        std_discount_reward = np.std(self.all_rewards)\n",
    "        \n",
    "        # update all rewards in buffer \n",
    "        # with cumulative normalized reward\n",
    "        for position, (session, id, _, _, reward, _ ,\n",
    "                       _) in enumerate(self.buffer.memory):          \n",
    "            # avoiding rows for different sessions (episodes)\n",
    "            if session != self.session:\n",
    "                continue\n",
    "            \n",
    "            # creating generator with gammas\n",
    "            dis = (self.gamma ** i for i in count(start=0, step=1))\n",
    "            \n",
    "            # using the gen and the rewards to calc cumulative\n",
    "            cumulative_reward = sum([r*d for r, d\n",
    "                                     in zip(self.all_rewards[id:],\n",
    "                                            dis)])\n",
    "            \n",
    "            # normalizing the cumulative reward\n",
    "            normal_rew = ((cumulative_reward - mean_discount_reward)\n",
    "                          / std_discount_reward)\n",
    "            \n",
    "            # changing the reward on the buffer (using raw position)\n",
    "            self.buffer.change_reward(position, normal_rew) \n",
    "        \n",
    "        for (session, id, state, action, reward, next_state,\n",
    "             done) in np.concatenate((self.buffer.memory,\n",
    "                                      self.buffer.sample())):\n",
    "                     \n",
    "            grad = self._gradiant(state, action).T \n",
    "            delta = (self.alpha\n",
    "                     * grad\n",
    "                     * reward)\n",
    "            self.w += delta\n",
    "            \n",
    "            grad_2 = self._gradiant_2(state, action).T          \n",
    "            delta_2 = (self.alpha\n",
    "                       * grad_2\n",
    "                       * reward)\n",
    "\n",
    "            self.w2 += delta_2\n",
    "        \n",
    "    def _mean(self, s):\n",
    "        state = np.concatenate((s, [s[0]**2, s[1]**2, s[2]**2,\n",
    "                                  s[0]*s[1], s[0]*s[2], s[1]*s[2]]))\n",
    "        return np.dot(state, self.w)\n",
    "    \n",
    "    def _std(self, s):\n",
    "        state = np.concatenate((s, [s[0]**2, s[1]**2, s[2]**2,\n",
    "                                  s[0]*s[1], s[0]*s[2], s[1]*s[2]]))\n",
    "        return abs(np.dot(state, self.w2))\n",
    "    \n",
    "    def _gradiant(self, s, action):\n",
    "        mean = self._mean(s)       \n",
    "        std = self._std(s)\n",
    "        \n",
    "        state = np.concatenate((s, [s[0]**2, s[1]**2, s[2]**2,\n",
    "                                  s[0]*s[1], s[0]*s[2], s[1]*s[2]]))\n",
    "        \n",
    "        cal = (state / (std ** 2)) * (action - mean)\n",
    "        return np.array([cal])\n",
    "    \n",
    "    def _gradiant_2(self, s, action):\n",
    "        mean = self._mean(s)       \n",
    "        std = self._std(s)\n",
    "        \n",
    "        state = np.concatenate((s, [s[0]**2, s[1]**2, s[2]**2,\n",
    "                                  s[0]*s[1], s[0]*s[2], s[1]*s[2]]))\n",
    "        \n",
    "        cal = state*(mean + std - action)*(-mean + std + action)/(std ** 3)\n",
    "        return np.array([cal])"
   ]
  },
  {
   "cell_type": "markdown",
   "metadata": {
    "Collapsed": "false"
   },
   "source": [
    "### Training"
   ]
  },
  {
   "cell_type": "code",
   "execution_count": 15,
   "metadata": {
    "Collapsed": "false",
    "scrolled": true
   },
   "outputs": [
    {
     "name": "stdout",
     "output_type": "stream",
     "text": [
      " 999 - Best Score: -767.54 - -1488.083\r"
     ]
    },
    {
     "data": {
      "image/png": "[encoded data removed]",
      "text/plain": [
       "<Figure size 432x288 with 1 Axes>"
      ]
     },
     "metadata": {
      "needs_background": "light"
     },
     "output_type": "display_data"
    },
    {
     "data": {
      "text/plain": [
       "1"
      ]
     },
     "execution_count": 15,
     "metadata": {},
     "output_type": "execute_result"
    }
   ],
   "source": [
    "num_episodes = 1000\n",
    "\n",
    "agent = ReinforceAgentAdvanced(env)\n",
    "\n",
    "best_score = -np.inf\n",
    "\n",
    "avg_scores = deque(maxlen=num_episodes)\n",
    "\n",
    "score_eval = ScoreEvaluator(1)\n",
    "\n",
    "for i in range(num_episodes):  \n",
    "    score = 0\n",
    "    state = env.reset()\n",
    "    agent.reset_episode()\n",
    "    \n",
    "    while True:\n",
    "        action = agent.act(state)\n",
    "        state, reward, done, _ = env.step(action)\n",
    "        \n",
    "        agent.step(state, reward, done)\n",
    "        \n",
    "        score += reward\n",
    "        if done:\n",
    "            score_eval.add(score)\n",
    "            print_iteaction(i, score_eval)\n",
    "            break\n",
    "            \n",
    "score_eval.plot_avg_scores()\n",
    "\n",
    "agent.find_better"
   ]
  },
  {
   "cell_type": "code",
   "execution_count": 13,
   "metadata": {
    "Collapsed": "false"
   },
   "outputs": [],
   "source": [
    "state = env.reset()\n",
    "\n",
    "for i in range(1):\n",
    "    state = env.reset()\n",
    "    while True:\n",
    "        env.render()\n",
    "        agent.reset_episode()\n",
    "        action = agent.act(state)\n",
    "        state, reward, done, _ = env.step(action)\n",
    "        if done:\n",
    "            break\n",
    "        \n",
    "env.close()"
   ]
  }
 ],
 "metadata": {
  "kernelspec": {
   "display_name": "Python 3",
   "language": "python",
   "name": "python3"
  },
  "language_info": {
   "codemirror_mode": {
    "name": "ipython",
    "version": 3
   },
   "file_extension": ".py",
   "mimetype": "text/x-python",
   "name": "python",
   "nbconvert_exporter": "python",
   "pygments_lexer": "ipython3",
   "version": "3.7.4"
  },
  "toc": {
   "base_numbering": 1,
   "nav_menu": {},
   "number_sections": true,
   "sideBar": true,
   "skip_h1_title": false,
   "title_cell": "Table of Contents",
   "title_sidebar": "Contents",
   "toc_cell": false,
   "toc_position": {},
   "toc_section_display": true,
   "toc_window_display": false
  }
 },
 "nbformat": 4,
 "nbformat_minor": 4
}
